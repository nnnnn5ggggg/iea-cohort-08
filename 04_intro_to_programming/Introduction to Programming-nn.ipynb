{
 "cells": [
  {
   "cell_type": "markdown",
   "metadata": {
    "slideshow": {
     "slide_type": "slide"
    }
   },
   "source": [
    "# Introduction to Programming\n",
    "# ...Using Python\n",
    "### JR Rickerson\n",
    "### (jrrickerson@redrivetstudios.com)\n"
   ]
  },
  {
   "cell_type": "markdown",
   "metadata": {},
   "source": [
    "## Agenda\n",
    "    - Quick Refresher on git / Github\n",
    "    - Intro to Programming with Python"
   ]
  },
  {
   "cell_type": "markdown",
   "metadata": {
    "slideshow": {
     "slide_type": "subslide"
    }
   },
   "source": [
    "# About This Course\n",
    "* This course is obviously not going to teach the same content as that of a Computer Science curriculum, but...\n",
    " * You'll learn how to write code, i.e., how to turn a __problem statement__ into code which will _solve_ that problem"
   ]
  },
  {
   "cell_type": "markdown",
   "metadata": {
    "slideshow": {
     "slide_type": "subslide"
    }
   },
   "source": [
    "* At its essence, that is ALL coding is about–converting a problem into code which solves that problem\n",
    "* It is _not_ easy–it will be challenging!\n",
    "* It will require a change in thinking!\n",
    "* ...and it will be fun!\n"
   ]
  },
  {
   "cell_type": "markdown",
   "metadata": {
    "slideshow": {
     "slide_type": "subslide"
    }
   },
   "source": [
    "# Now pull this notebook, so you can follow along...\n",
    "* Open a terminal window\n",
    "* Change directories to your class materials\n",
    "* Pull from the upstream remote\n",
    "* Start the notebook with `jupyter notebook` as before"
   ]
  },
  {
   "cell_type": "markdown",
   "metadata": {},
   "source": [
    "## Git - Adding an upstream remote\n",
    "### Why?\n",
    "* We have an original repository we created a fork from\n",
    "* We have made changes to our fork\n",
    "* Other contributors have also made changes to the original\n",
    "\n",
    "### How?\n",
    "`git checkout master` (make sure we're on master)  \n",
    "`git remote add upstream https://<repo url>`  \n",
    "`git pull upstream master`  "
   ]
  },
  {
   "cell_type": "code",
   "execution_count": null,
   "metadata": {
    "scrolled": true
   },
   "outputs": [],
   "source": [
    "!git remote -v"
   ]
  },
  {
   "cell_type": "markdown",
   "metadata": {
    "slideshow": {
     "slide_type": "subslide"
    }
   },
   "source": [
    "## Launching Jupyter\n",
    "\n",
    "* On a Mac:\n",
    "  * In __Terminal__, type  \n",
    "  __`jupyter notebook`__  \n",
    "   \n",
    "   \n",
    "* On Windows:\n",
    "  * In the __cmd__ window, type  \n",
    "  __`jupyter notebook`__\n",
    "\n",
    "\n",
    "* Navigate to the new directory you pulled with git, and click on __`Introduction to Programming.ipynb`__"
   ]
  },
  {
   "cell_type": "markdown",
   "metadata": {
    "collapsed": true,
    "slideshow": {
     "slide_type": "subslide"
    }
   },
   "source": [
    "# How to get around on Jupyter:\n",
    "* Each place for you to enter text is called a _cell_\n",
    "* Usually you enter __`Python`__ code, but you can also enter text in a _markup_ language called __`Markdown`__ (that's what's going on in _this_ cell)\n",
    "* To \"run\" the code in the cell, hit __Shift-Return__ (i.e., hold down __Shift__ key, then hit __Return__)\n",
    "* Try it with the cell below..."
   ]
  },
  {
   "cell_type": "code",
   "execution_count": 1,
   "metadata": {},
   "outputs": [
    {
     "name": "stdout",
     "output_type": "stream",
     "text": [
      "4\n"
     ]
    }
   ],
   "source": [
    "x = 4\n",
    "print(x)"
   ]
  },
  {
   "cell_type": "markdown",
   "metadata": {
    "slideshow": {
     "slide_type": "subslide"
    }
   },
   "source": [
    "* we'll work inside the Jupyter notebook and you'll be able to take it with you as a living, breathing document of your work in this class\n",
    "* the __Insert__ menu will allow you to add a cell above or below the current cell\n",
    "* the __Kernel__ menu will allow you to \"talk\" to the Python interpreter on your machine\n",
    "  * (when you type into a cell, you are \"talking\" to the web browser, and the web browser sends the text to the __`Python`__ interpreter to be \"run\")\n",
    "  * the __Kernel__ menu will allow you to _restart_ your __`Python`__ interpreter in case something goes wrong and it stops responding to you\n",
    "  "
   ]
  },
  {
   "cell_type": "markdown",
   "metadata": {
    "slideshow": {
     "slide_type": "slide"
    }
   },
   "source": [
    "# Basics of Computer Architecture"
   ]
  },
  {
   "cell_type": "markdown",
   "metadata": {
    "slideshow": {
     "slide_type": "subslide"
    }
   },
   "source": [
    "## Bits, Bytes, and Binary\n",
    "* a _bit_ (\"binary digit\") is the basic unit of information in computing (and digital communications)\n",
    "* a bit can have only one of two values, 0 or 1\n",
    "* the two values can also be interpreted as logical values (true/false, yes/no), etc.\n",
    "* a _byte_ is 8 bits, which you can think of a single character on the US keyboard\n",
    "![alt text](images/byte.png)\n",
    "\n"
   ]
  },
  {
   "cell_type": "markdown",
   "metadata": {
    "slideshow": {
     "slide_type": "subslide"
    }
   },
   "source": [
    "## Basics of Computer Architecture\n",
    "* in simplest terms, a computer consists of a __CPU__ (Central Processing Unit, or \"brain\") and memory\n",
    "* the job of the CPU is to _execute_ (or \"run\") instructions (or \"code\")\n",
    "* there are two types of instructions:\n",
    "  * those that transfer data from memory to the CPU (_load_) or vice versa (_store_)\n",
    "  * those that operate on data stored in the CPU (e.g., arithmetic operations such as addition or subtraction, or branching)\n",
    "* the CPU has a _clock speed_, which is the speed at which the CPU's internal clock _pulses_, i.e., the speed at which the CPU can do work\n",
    "  * e.g., 2.9 GHz (Gigahertz) = 2.9 billion cycles per second\n",
    "  * think of the clock speed as a drumbeat which signals when the next instruction can execute\n"
   ]
  },
  {
   "cell_type": "markdown",
   "metadata": {
    "collapsed": true,
    "slideshow": {
     "slide_type": "subslide"
    }
   },
   "source": [
    "## Block Diagram of a Simple CPU\n",
    "\n",
    "![alt text](images/block.png)\n",
    "* the ALU (arithmetic logic unit) handles operations on integers (whole numbers)\n",
    "* the FPU (floating point unit or \"math coprocessor\") handles operations on floating point (fractional) numbers\n",
    "* registers are memory \"slots\" in the CPU which hold data that the ALU or FPU manipulates"
   ]
  },
  {
   "cell_type": "markdown",
   "metadata": {
    "collapsed": true,
    "slideshow": {
     "slide_type": "subslide"
    }
   },
   "source": [
    "## Types of Computer Memory\n",
    "\n",
    "![alt text](images/computer-memory-pyramid.gif)\n",
    "\n",
    "* RAM = Random Access Memory\n",
    "  * \"short term\" memory\n",
    "  * stuff is stored in RAM while power is applied (i.e., computer is on)\n",
    "* secondary storage - hard drives, USB drives, flash drives, etc.\n",
    "  * \"long term\" memory\n",
    "  * data persists even when power is off\n",
    "* virtual memory\n",
    "  * a software trick which enables the computer to seem like it has more memory than it actually has\n",
    "  * unused blocks of memory are moved to the hard drive or other secondary storage device\n",
    "* cache\n",
    "  * super-fast memory inside the CPU used to keep data close by so the CPU doesn't have to continually move data in and out (cf. a web browser cache which holds images so that the next time you visit a website the browser doesn't have to download the image from the site, it can just grab it from the cache)"
   ]
  },
  {
   "cell_type": "markdown",
   "metadata": {
    "collapsed": true,
    "slideshow": {
     "slide_type": "subslide"
    }
   },
   "source": [
    "## How an Application is Run\n",
    "* The application (e.g., Microsoft Word) is stored on your hard drive or other secondary storage\n",
    "* When you double click on an application, the operating system (OS X, Windows, etc.) loads the application (or a portion of it) into RAM (details are OS-specific and not important for our discussion)\n"
   ]
  },
  {
   "cell_type": "markdown",
   "metadata": {
    "slideshow": {
     "slide_type": "subslide"
    }
   },
   "source": [
    "* An executable application such as Microsoft Word is a series of _instructions_ in a language that the CPU can understand (\"assembly language\" or \"machine language\")\n",
    "* The instructions are decoded and executed by the CPU\n",
    "* Note that modern computers (such as our laptops) have CPUs which are multi-core\n",
    "  * This means that the CPU itself has 2 or more _cores_, or processing units\n",
    "  * In other words, if your laptop has a dual-core CPU, it can run 2 things at once\n",
    "  * Of course, we are used to \"running\" many more applications simultaneously (e.g., web browser, mail client, Word, iTunes, etc.) but that is just an illusion–the operating system is _multi-tasking_ by running each \"runnable\" _process_ for a little while and then switching to the next one\n",
    "  * It does this fast enough that it appears that they are running simultaneously"
   ]
  },
  {
   "cell_type": "markdown",
   "metadata": {
    "slideshow": {
     "slide_type": "slide"
    }
   },
   "source": [
    "# What is Computer Programming?"
   ]
  },
  {
   "cell_type": "markdown",
   "metadata": {
    "slideshow": {
     "slide_type": "subslide"
    }
   },
   "source": [
    "## What is Computer Programming?\n",
    "* _Programming_ (or \"coding\") is a process that begins with the formulation of a (computing) problem and ends with the creation of an executable computer program\n",
    "* A (computer) _program_ is a set of statements or instructions that tells the computer what to do\n",
    "* In order to write a program, programmers often begin with an algorithm...\n",
    "\n"
   ]
  },
  {
   "cell_type": "markdown",
   "metadata": {
    "slideshow": {
     "slide_type": "subslide"
    }
   },
   "source": [
    "## What's an Algorithm?\n",
    "* An _algorithm_ is a process or set of rules to be followed in calculations or other problem-solving operations (usually, but not always by a computer)\n",
    "* For example, an algorithm for converting Fahrenheit temperatures into Celsius looks like this:\n",
    "  1. Subtract 32 from the Fahrenheit temperature\n",
    "  2. Multiply the result by 5/9\n",
    "* An algorithm for washing your hair...\n",
    "  1. Lather\n",
    "  2. Rinse\n",
    "  3. Repeat\n",
    "* An algorithm for getting a ping-pong ball out of a deep hole with a small diameter...\n",
    "  1. Fill the hole with water\n",
    "* In other words, an algorithm is like a recipe, listing each of the steps required to solve the problem"
   ]
  },
  {
   "cell_type": "markdown",
   "metadata": {
    "slideshow": {
     "slide_type": "subslide"
    }
   },
   "source": [
    "## What's Pseudocode?\n",
    "* a notation resembling a simplified programming language, often like a mixture of English and programming language constructs\n",
    "* often used to write down an algorithm in order to translate it into code\n",
    "* we will write pseudocode before we write our programs"
   ]
  },
  {
   "cell_type": "markdown",
   "metadata": {
    "slideshow": {
     "slide_type": "subslide"
    }
   },
   "source": [
    "## Debugging\n",
    "* the process of finding and fixing errors (typically called \"bugs\")\n",
    "* popularized by Grace Hopper, Ph.D., a Navy rear admiral and one of the first computer programmers\n",
    "* posthumously awarded the Presidential Medal of Freedom in 2016\n",
    "* https://en.wikipedia.org/wiki/Grace_Hopper\n"
   ]
  },
  {
   "cell_type": "markdown",
   "metadata": {
    "slideshow": {
     "slide_type": "subslide"
    }
   },
   "source": [
    "![alt text](images/H96566k.jpg)"
   ]
  },
  {
   "cell_type": "markdown",
   "metadata": {
    "slideshow": {
     "slide_type": "subslide"
    }
   },
   "source": [
    "## How Do Computers Understand Programming Languages?\n",
    "* the short answer is–\"they don't\"\n",
    "* programs we write in just about every programming language are either\n",
    "  * __translated__ into _machine language_ (the numeric equivalent of assembly language) or an intermediate language called _bytecode_\n",
    "    * this process is called _compilation_\n",
    "    * the tool which performs the compilation is called a _compiler_\n",
    "    * the language is referred to as a _compiled language_ (e.g., C/C++, Fortran)\n",
    "    * we can see the compilation process in action at http://godbolt.org/\n",
    "  * __interpreted__ by a program called an _interpreter_\n",
    "    * __`bash`__, which you may be familiar with, is an interpreted language\n",
    "  * __transpiled__ into another language (and then compiled or interpreted)\n",
    "    * e.g., CoffeeScript => JavaScript (and others), Eiffel => C++\n",
    "  \n"
   ]
  },
  {
   "cell_type": "markdown",
   "metadata": {
    "collapsed": true,
    "slideshow": {
     "slide_type": "subslide"
    }
   },
   "source": [
    "## Is Python a Compiled or Interpreted Language?\n",
    "* short answer–\"It's both!\"\n",
    "* __`Python`__ is first compiled into an \"intermediate\" language called _bytecode_\n",
    "* then the bytecode is interpreted by the __`Python`__ Virtual Machine (VM)\n",
    "* __`Java`__ works in a similar way in that it is first compiled into bytecode (a different bytecode than what __`Python`__ uses) and then interpreted by the __`Java`__ VM\n",
    "* this is a bit of an oversimplification, but we are not trying to be compiler/programming language experts"
   ]
  },
  {
   "cell_type": "markdown",
   "metadata": {
    "slideshow": {
     "slide_type": "subslide"
    }
   },
   "source": [
    "## Source Code vs. Object Code\n",
    "* _source code_ is collection of computer instructions written using a human-readable programming language\n",
    "  * source code may (and should) include _comments_\n",
    "  * source is plain text\n",
    "  * humans write source code\n",
    "* _object code_ consists of machine-readable instructions\n",
    "  * it's the output of a compiler, i.e., it's the compiled version of source code\n",
    "  * therefore, computers write object code\n",
    "  * files of object code (\"object files\") can be linked together to create executables (applications)\n",
    "  * on Linux and Linux-like systems, you will find files whose names end in __`.so`__–these are _shared object_ or \"library\" files"
   ]
  },
  {
   "cell_type": "markdown",
   "metadata": {
    "slideshow": {
     "slide_type": "subslide"
    }
   },
   "source": [
    "## Syntax Errors\n",
    "* __syntax__ = the set of rules that defines the combinations of symbols that are considered to be a correctly-written (valid) program\n",
    "* a __syntax error__ is an error in syntax, i.e., a violation of the rules that define a valid program\n",
    "* syntax in programming is more like grammar in English\n",
    "  * The dog chases the cat\n",
    "  * The dogs chases the cat (_syntax error–subject/verb agreement_)\n",
    "* syntax errors are caught by the compiler or interpreter\n",
    "  * sometimes called __compile time__ errors\n",
    "    * remember that in a compiled language, compilation is a completely independent step from running the program\n",
    "  * a program can only run if it's __syntactically correct__"
   ]
  },
  {
   "cell_type": "markdown",
   "metadata": {
    "slideshow": {
     "slide_type": "subslide"
    }
   },
   "source": [
    "## Runtime Errors\n",
    "* as the name suggests, these are errors that occur when you run the program, as opposed to when you compile the program\n",
    "* with an interpreted language such as Python, the distinction between syntax and runtime errors is not as obvious–in both cases the interpreter will stop interpreting your code and will report an error\n",
    "* runtime errors are often called __exceptions__"
   ]
  },
  {
   "cell_type": "markdown",
   "metadata": {
    "slideshow": {
     "slide_type": "subslide"
    }
   },
   "source": [
    "## Semantic Errors\n",
    "* a __semantic error__ occurs when your program is syntactically correct, but you told the computer to do the wrong thing\n",
    "* for example, if you wrote a program to convert Fahrenheit to Celsius and you added 32 to the temperature instead of subtracting\n",
    "  * the program will run, but it will give you the wrong result\n",
    "  * remember that the computer will do what you tell it to do, but that doesn't mean it's what you want it to do! \n",
    "* a semantic error _may_ cause a runtime error, but usually they don't, and they can be difficult to debug"
   ]
  },
  {
   "cell_type": "markdown",
   "metadata": {
    "collapsed": true,
    "slideshow": {
     "slide_type": "slide"
    }
   },
   "source": [
    "# Introducing Python"
   ]
  },
  {
   "cell_type": "markdown",
   "metadata": {
    "slideshow": {
     "slide_type": "subslide"
    }
   },
   "source": [
    "## Introducing Python\n",
    "* Python is a _high-level_ language, meaning it is\n",
    "  * easy to get started with\n",
    "  * fun to use"
   ]
  },
  {
   "cell_type": "markdown",
   "metadata": {
    "slideshow": {
     "slide_type": "subslide"
    }
   },
   "source": [
    "* there are two ways to use Python: interactive (or \"command line\") mode, and script (or program) mode\n",
    "* we'll start in interactive mode\n",
    "* type the following into the next cell of this notebook, then hit __`SHIFT-RETURN`__ to send the text to Python\n",
    "\n",
    "   __`2 + 2`__"
   ]
  },
  {
   "cell_type": "code",
   "execution_count": 2,
   "metadata": {},
   "outputs": [
    {
     "data": {
      "text/plain": [
       "4"
      ]
     },
     "execution_count": 2,
     "metadata": {},
     "output_type": "execute_result"
    }
   ],
   "source": [
    "2 + 2"
   ]
  },
  {
   "cell_type": "markdown",
   "metadata": {
    "slideshow": {
     "slide_type": "subslide"
    }
   },
   "source": [
    "## Let's try a few other calculations using Python..."
   ]
  },
  {
   "cell_type": "code",
   "execution_count": 3,
   "metadata": {},
   "outputs": [
    {
     "data": {
      "text/plain": [
       "100.0"
      ]
     },
     "execution_count": 3,
     "metadata": {},
     "output_type": "execute_result"
    }
   ],
   "source": [
    "# the '#' symbol precedes a comment...\n",
    "# ...which is text that Python ignores\n",
    "# so let's convert Fahrenheit to Celsius...\n",
    "(212 - 32) * 5 / 9"
   ]
  },
  {
   "cell_type": "code",
   "execution_count": 4,
   "metadata": {},
   "outputs": [
    {
     "data": {
      "text/plain": [
       "1000000000000000000000000000000000000000000000000000000000000000000000000000000"
      ]
     },
     "execution_count": 4,
     "metadata": {},
     "output_type": "execute_result"
    }
   ],
   "source": [
    "# roughly the number of atoms in the universe\n",
    "10 ** 78"
   ]
  },
  {
   "cell_type": "code",
   "execution_count": 5,
   "metadata": {},
   "outputs": [
    {
     "data": {
      "text/plain": [
       "1.3333333333333333"
      ]
     },
     "execution_count": 5,
     "metadata": {},
     "output_type": "execute_result"
    }
   ],
   "source": [
    "4 / 3"
   ]
  },
  {
   "cell_type": "code",
   "execution_count": 6,
   "metadata": {},
   "outputs": [
    {
     "data": {
      "text/plain": [
       "1"
      ]
     },
     "execution_count": 6,
     "metadata": {},
     "output_type": "execute_result"
    }
   ],
   "source": [
    "# // is integer division (technically it's \"floor division\", but we can\n",
    "# ignore the difference for now)\n",
    "4 // 3"
   ]
  },
  {
   "cell_type": "markdown",
   "metadata": {
    "slideshow": {
     "slide_type": "subslide"
    }
   },
   "source": [
    "## Writing Our First Program\n",
    "* when learning a new programming language, it's customary to write a _hello world_ program, that is, a program which simply prints out \"Hello, world!\"\n",
    "* type the following into the next cell and then hit __`SHIFT-RETURN`__\n",
    "\n",
    "    __`print('Hello, world!')`__"
   ]
  },
  {
   "cell_type": "code",
   "execution_count": 7,
   "metadata": {
    "scrolled": true
   },
   "outputs": [
    {
     "name": "stdout",
     "output_type": "stream",
     "text": [
      "Hello, world!\n"
     ]
    }
   ],
   "source": [
    "print('Hello, world!')"
   ]
  },
  {
   "cell_type": "markdown",
   "metadata": {
    "slideshow": {
     "slide_type": "subslide"
    }
   },
   "source": [
    "## Analzying our First Program\n",
    "* We used Python's builtin __`print`__ _function_ to print text to the screen\n",
    "* OK...so what's a function?"
   ]
  },
  {
   "cell_type": "markdown",
   "metadata": {
    "slideshow": {
     "slide_type": "subslide"
    }
   },
   "source": [
    "## What is a Function?\n",
    "* a function is a named sequence of program statements that perform a specific task (in this case, the task was outputting to the screen)\n",
    "* a function can be used in a program wherever that particular task is needed\n",
    "* we can create our own functions, or we can rely on builtin functions as above"
   ]
  },
  {
   "cell_type": "markdown",
   "metadata": {
    "slideshow": {
     "slide_type": "subslide"
    }
   },
   "source": [
    "## What is a Function? (cont'd)\n",
    "* when you call or _invoke_ a function, you write its name, followed by the data you wish to send into the function (often called _arguments_) in parentheses...\n",
    "* if you wish to send no data to the function, you still include the parentheses\n",
    "  * e.g., __`print()`__ will print a blank line\n",
    "  * ... vs. __`print('Hello, world!')`__ as we did in our first program"
   ]
  },
  {
   "cell_type": "markdown",
   "metadata": {
    "slideshow": {
     "slide_type": "slide"
    }
   },
   "source": [
    "\n",
    "## Data, Variables, and Expressions\n",
    "* computer programs typically manipulate _data_ (or values), which can be numbers, names, or any text (and other things we can ignore for now)\n",
    "* it's useful to think of programs as taking some input and producing some output\n",
    "  * the data (or values) are provided as input to the program, and some other data are produced as output\n",
    "* _variables_ can be thought of as a \"named box\" (e.g., __`r`__, __`name`__, or __`year`__) inside the computer that holds a value\n",
    "  * the value could be a number, a name, or something else\n",
    "* an _expression_ is a combination of one or more values, variables, and operators (__`+`__, __`-`__, etc.), e.g.,\n",
    "  * __`(temp - 32) * 5 / 9`__\n",
    "  * __`3.14159 * r ** 2`__\n",
    "  * __`2 + 2`__\n",
    "  * __`1`__\n",
    " \n",
    "\n"
   ]
  },
  {
   "cell_type": "code",
   "execution_count": null,
   "metadata": {},
   "outputs": [],
   "source": [
    "temp = 54\n",
    "(temp - 32) * 5 / 9"
   ]
  },
  {
   "cell_type": "markdown",
   "metadata": {
    "slideshow": {
     "slide_type": "subslide"
    }
   },
   "source": [
    "## Values and Simple Data Types (`int`, `float`, and `str`)\n",
    "* _integers_ are whole numbers which have no fractional part\n",
    "  * e.g., __`42`__, __`-1`__, __`2017`__\n",
    "* _floats_ (short for \"floating point\") are numbers which have a decimal point and possibly  digits after the decimal point\n",
    "  * e.g, __`3.1415`__, __`212.`__, __`-1.5`__\n",
    "* _strings_ are sequences of characters surrounded by quotes\n",
    "  * e.g., __`'Hello, world!'`__\n",
    "* we can ask the Python interpreter to tell us the type of a value by using the builtin __`type`__ function"
   ]
  },
  {
   "cell_type": "code",
   "execution_count": 8,
   "metadata": {},
   "outputs": [
    {
     "data": {
      "text/plain": [
       "float"
      ]
     },
     "execution_count": 8,
     "metadata": {},
     "output_type": "execute_result"
    }
   ],
   "source": [
    "type(42.)"
   ]
  },
  {
   "cell_type": "code",
   "execution_count": null,
   "metadata": {},
   "outputs": [],
   "source": [
    "# Lines that begin with a '#' are comments.\n",
    "# They are for humans, and are ignored by the interpreter.\n",
    "#\n",
    "# Note that you can chain values together with a\n",
    "# comma, and the result will be a is a comma-\n",
    "# separated list of results in parentheses\n",
    "\n",
    "type(-1), type(212.), type('hello')"
   ]
  },
  {
   "cell_type": "code",
   "execution_count": null,
   "metadata": {},
   "outputs": [],
   "source": [
    "temp"
   ]
  },
  {
   "cell_type": "markdown",
   "metadata": {
    "slideshow": {
     "slide_type": "subslide"
    }
   },
   "source": [
    "# Lab: The Builtin Function __`type()`__\n",
    "* use Python's __`type()`__ function to find out the type of the following values and expressions\n",
    "  * __`35 + 5`__\n",
    "  * __`35.0 + 5`__\n",
    "  * __`'35' + '5'`__\n",
    "  * __`5 // 3`__\n",
    "  * __`3.5.5`__\n",
    "* __Note:__ you can add more cells to the notebook in the Insert menu"
   ]
  },
  {
   "cell_type": "code",
   "execution_count": null,
   "metadata": {},
   "outputs": [],
   "source": []
  },
  {
   "cell_type": "markdown",
   "metadata": {
    "slideshow": {
     "slide_type": "subslide"
    }
   },
   "source": [
    "## Variables\n",
    "* variables are named locations inside the computer's memory (again, think of these as named boxes into which you can put values)\n",
    "* we can put a value into a variable by using an _assignment statement_, e.g.,\n",
    "  * __`x = 1`__\n",
    "  * __`name = 'Grace Hopper'`__\n",
    "* an assignment is not a statement of equality (as we are used to from mathematics)–it's a directive to Python to put whatever is on the right-hand side of the __`=`__ into the variable on the left hand side\n",
    "* we can ask Python to print the value of a variable by simply typing it into the interpreter, or by using the built-in __`print`__ function"
   ]
  },
  {
   "cell_type": "code",
   "execution_count": null,
   "metadata": {},
   "outputs": [],
   "source": [
    "x = 1906\n",
    "x"
   ]
  },
  {
   "cell_type": "code",
   "execution_count": null,
   "metadata": {},
   "outputs": [],
   "source": [
    "name = 'Grace Hopper'\n",
    "name"
   ]
  },
  {
   "cell_type": "code",
   "execution_count": null,
   "metadata": {},
   "outputs": [],
   "source": [
    "# notice that when printing a string, the quotes are omitted\n",
    "print(name, 'birth year =', x)"
   ]
  },
  {
   "cell_type": "code",
   "execution_count": 10,
   "metadata": {},
   "outputs": [
    {
     "ename": "NameError",
     "evalue": "name 'name' is not defined",
     "output_type": "error",
     "traceback": [
      "\u001b[0;31m---------------------------------------------------------------------------\u001b[0m",
      "\u001b[0;31mNameError\u001b[0m                                 Traceback (most recent call last)",
      "\u001b[0;32m<ipython-input-10-9ba126b17b03>\u001b[0m in \u001b[0;36m<module>\u001b[0;34m\u001b[0m\n\u001b[0;32m----> 1\u001b[0;31m \u001b[0mprint\u001b[0m\u001b[0;34m(\u001b[0m\u001b[0mname\u001b[0m\u001b[0;34m)\u001b[0m\u001b[0;34m\u001b[0m\u001b[0;34m\u001b[0m\u001b[0m\n\u001b[0m",
      "\u001b[0;31mNameError\u001b[0m: name 'name' is not defined"
     ]
    }
   ],
   "source": [
    "print(name)"
   ]
  },
  {
   "cell_type": "markdown",
   "metadata": {
    "slideshow": {
     "slide_type": "subslide"
    }
   },
   "source": [
    "## Lab: Variables\n",
    "* create a variable named __quantity__ and give it an integer value\n",
    "* verify that __quantity__ has the value you gave it\n",
    "* verify that __quantity__ is an integer\n",
    "* create a variable named __company__ and give it a value of 'mycompany'\n",
    "* verify that __company__ is a string and that its value is 'mycompany'"
   ]
  },
  {
   "cell_type": "code",
   "execution_count": 24,
   "metadata": {},
   "outputs": [
    {
     "name": "stdout",
     "output_type": "stream",
     "text": [
      "5 <class 'int'>\n",
      "mycompany <class 'str'>\n",
      "9\n"
     ]
    }
   ],
   "source": [
    "quantity = 5\n",
    "print (quantity, type(quantity))\n",
    "type (quantity)\n",
    "company = 'mycompany'\n",
    "print (company, type(company))\n",
    "type (company)\n",
    "\n",
    "#simple function\n",
    "def add_5(param1):\n",
    "    print(param1 + 5)\n",
    "#call the function\n",
    "add_5(4)"
   ]
  },
  {
   "cell_type": "markdown",
   "metadata": {
    "slideshow": {
     "slide_type": "subslide"
    }
   },
   "source": [
    "## Variables (continued)\n",
    "* by the way, you may have heard (or may already know) that variables are not implemented as \"named boxes\" in Python\n",
    "  * TRUE–but for now, let's think of them that way–it's a perfectly fine abstraction and there's no reason to discard it\n",
    "* Python is called a _dynamically typed_ language because you do not _declare_ variables before you use them\n",
    "* in addition, a variable can hold a value of _any_ type, even if that type is not what the variable previously held, e.g.,"
   ]
  },
  {
   "cell_type": "code",
   "execution_count": null,
   "metadata": {},
   "outputs": [],
   "source": [
    "x = 1\n",
    "y = 2\n",
    "x = 'jello'\n",
    "print(x)"
   ]
  },
  {
   "cell_type": "markdown",
   "metadata": {},
   "source": [
    "* in a _statically typed_ language (e.g., C/C++, Java), you must declare variables before using them (and in doing so you must indicate the type of data the variable will hold–__`int`__, __`float`__, etc.)\n",
    "  * ...and the only values that variable may contain are values of the declared type\n",
    "* we have no such restrictions in Python, which is both good and bad:\n",
    "  * it's good because we can just start using a variable and not have to worry about declaring it ahead of time\n",
    "  * it's bad because in a large program it can be difficult to track the type of variables, and if you accidentally overwrite a variable with a value of the wrong type, there is no way Python can complain about it–only you know what type of value is supposed to be stored in a variable\n",
    "\n"
   ]
  },
  {
   "cell_type": "markdown",
   "metadata": {
    "slideshow": {
     "slide_type": "subslide"
    }
   },
   "source": [
    "## Getting Input from the User\n",
    "* the builtin function __`input()`__ enables us to prompt the user for input\n",
    "* ...and whatever the user typed is returned by the function\n",
    "* let's try it in the next cell"
   ]
  },
  {
   "cell_type": "code",
   "execution_count": null,
   "metadata": {},
   "outputs": [],
   "source": [
    "name = input('Enter your name: ')\n",
    "print('Hello', name)"
   ]
  },
  {
   "cell_type": "markdown",
   "metadata": {
    "slideshow": {
     "slide_type": "subslide"
    }
   },
   "source": [
    "## Lab: Input\n",
    "* write Python code to prompt the user for a year and print out the year the user entered\n",
    "* your output will look something like this:\n",
    "\n",
    "<pre>\n",
    "<b>\n",
    "Enter a year: 2017\n",
    "You entered 2017\n",
    "</b>\n",
    "</pre>"
   ]
  },
  {
   "cell_type": "markdown",
   "metadata": {
    "slideshow": {
     "slide_type": "subslide"
    }
   },
   "source": [
    "## Variable Names and Keywords\n",
    "* variable names can be arbitrarily long\n",
    "* they can contain both letters and numbers, but they must begin with a letter\n",
    "* uppercase letters are allowed, but by convention we don’t use them (if you do use uppercase letters, remember that Python is _case sensitive_–in other words __`counter`__ and __`Counter`__ are different variables)\n",
    "* you should choose meaningful names for your variables:\n",
    "  * __`counter`__ instead of __`c`__\n",
    "  * __`cost_per_ounce`__ instead of __`cpo`__\n",
    "  * etc.\n",
    "* as you can see above, variable names can include underscores–use them to make your variable names clearer\n",
    "  * for now, do not start a variable name with an underscore"
   ]
  },
  {
   "cell_type": "code",
   "execution_count": null,
   "metadata": {},
   "outputs": [],
   "source": [
    "# what is the problem here?\n",
    "year = 2017\n",
    "to = 'Mary'\n",
    "from = 'Dave'"
   ]
  },
  {
   "cell_type": "markdown",
   "metadata": {},
   "source": [
    "* the problem above is that __`from`__ is a _keyword_\n",
    "* _keywords_ are words that are part of Python (or other programming languages) and cannot be used as variable names\n",
    "* if you ever get a weird error like 'invalid syntax' when it looks syntactically correct, the problem is likely that you are trying to use a keyword as a variable\n",
    "* we can get a current list of the keywords...\n"
   ]
  },
  {
   "cell_type": "code",
   "execution_count": null,
   "metadata": {},
   "outputs": [],
   "source": [
    "# We will explore this 'import' syntax later.\n",
    "# For now, just think of it as a way to use some \"library\" code which comes with Python,\n",
    "# but isn't built in, so we need to import it.\n",
    "\n",
    "import keyword\n",
    "print(keyword.kwlist)"
   ]
  },
  {
   "cell_type": "markdown",
   "metadata": {},
   "source": [
    "* Or, we can look them up in the docs:  https://docs.python.org/3/reference/lexical_analysis.html#keywords\n",
    "* But don't forget, more may be added in newer Python versions!"
   ]
  },
  {
   "cell_type": "markdown",
   "metadata": {
    "slideshow": {
     "slide_type": "subslide"
    }
   },
   "source": [
    "## Evaluating Expressions\n",
    "* recall that an expression is a combination of values, variables, and operators (but doesn't have to contain all of these elements)\n",
    "* if you type an expression on the command line, the interpreter evaluates it and displays the result"
   ]
  },
  {
   "cell_type": "code",
   "execution_count": null,
   "metadata": {},
   "outputs": [],
   "source": [
    "2 + 2"
   ]
  },
  {
   "cell_type": "markdown",
   "metadata": {},
   "source": [
    "* note that a value all by itself is considered an expression, as is a variable by itself"
   ]
  },
  {
   "cell_type": "code",
   "execution_count": null,
   "metadata": {},
   "outputs": [],
   "source": [
    "13"
   ]
  },
  {
   "cell_type": "code",
   "execution_count": null,
   "metadata": {},
   "outputs": [],
   "source": [
    "name"
   ]
  },
  {
   "cell_type": "markdown",
   "metadata": {
    "slideshow": {
     "slide_type": "subslide"
    }
   },
   "source": [
    "* one point of confusion concerns the difference between _evaluating an expression_ and _printing a value_\n",
    "* evaluating an expression does not print anything if \n",
    "  * you're in _program_ mode\n",
    "  * or you are assigning the value of the expression to a variable"
   ]
  },
  {
   "cell_type": "code",
   "execution_count": null,
   "metadata": {},
   "outputs": [],
   "source": [
    "# Python doesn't print anything when you \n",
    "# assign a value to a variable\n",
    "something = 'nothing'"
   ]
  },
  {
   "cell_type": "code",
   "execution_count": null,
   "metadata": {},
   "outputs": [],
   "source": [
    "something"
   ]
  },
  {
   "cell_type": "markdown",
   "metadata": {
    "slideshow": {
     "slide_type": "subslide"
    }
   },
   "source": [
    "* when the interpreter displays the value of an expression, it uses the same format you would use to enter its value–so in the case of strings, that means that it includes the quotes\n",
    "* but when you call the __`print()`__ function, Python displays the contents of the string without the quotes..."
   ]
  },
  {
   "cell_type": "code",
   "execution_count": null,
   "metadata": {},
   "outputs": [],
   "source": [
    "print(something)"
   ]
  },
  {
   "cell_type": "markdown",
   "metadata": {
    "slideshow": {
     "slide_type": "subslide"
    }
   },
   "source": [
    "## So Why Are There Two Ways to Produce Output?\n",
    "* simply typing a variable name or an expression is a convenient way to see its value, and it's something we can always do at the Python interactive prompt\n",
    "* inside a program, however, we use the __`print()`__ function to produce output"
   ]
  },
  {
   "cell_type": "markdown",
   "metadata": {
    "slideshow": {
     "slide_type": "subslide"
    }
   },
   "source": [
    "## Operators and Operands\n",
    "* operators are special symbols that represent computations such as addition (__`+`__) and multiplication (__`*`__)\n",
    "* the values that operator operates on are called operands\n",
    "* __`13 + 15`__\n",
    "* __`year - 1`__ \n",
    "* __`hours * 60 + minutes`__\n",
    "* __`minutes / 60`__ \n",
    "* __`minutes // 60`__\n",
    "* __`minutes % 60`__\n",
    "  * __`%`__ is the _modulus_ or remainder operator\n",
    "  * yields the remainder (not the quotient) when dividing its two operands\n",
    "* __`2 ** 64`__\n",
    "* __`(x + 3) * (y - 5)`__"
   ]
  },
  {
   "cell_type": "markdown",
   "metadata": {
    "collapsed": true,
    "slideshow": {
     "slide_type": "subslide"
    }
   },
   "source": [
    "## Lab: Variables, Operators, and Expressions\n",
    "* create a variable named __minutes__ and give it an initial value of __28435__\n",
    "* create a variable named __hours__ and set it equal to __minutes__ divided by __60__\n",
    "* create a variable named __days__ and set it equal to __hours__ divided by __24__\n",
    "* try both __`/`__ and __`//`__ and be sure you understand how they differ\n",
    "* consider the following expressions and then enter them into Jupyter to verify your understanding\n",
    "  * __`days * 24 + hours * 60`__\n",
    "  * __`days * (24 + hours) * 60`__\n",
    "  * __`(days * 24) + (hours * 60)`__\n"
   ]
  },
  {
   "cell_type": "code",
   "execution_count": null,
   "metadata": {},
   "outputs": [],
   "source": []
  },
  {
   "cell_type": "markdown",
   "metadata": {
    "slideshow": {
     "slide_type": "subslide"
    }
   },
   "source": [
    "## Boolean Expressions and Logical Operators\n",
    "![alt text](images/George_Boole_color.jpg)\n",
    "* named after George Boole, an English mathematician (1813-1864)\n",
    "* he developed a system called _Boolean Algebra_, which laid the foundations for the Information Age\n",
    "  * Boolean Algebra deals with values which are either TRUE or FALSE\n",
    "  * in order to understand Boolean Algebra, we first need to consider how to get a TRUE or FALSE value\n",
    "  * a _Boolean expression_ is an expression that is either TRUE or FALSE\n",
    "    * __\"K2, the second tallest mountain in the world, is 28,251 feet above sea level.\" (TRUE)__\n",
    "    * __\"There are 31 days in April.\" (FALSE)__\n",
    "    * __`1 + 2 == 3` (TRUE)__\n",
    "    * __`2 ** 3 == 9` (FALSE)__\n",
    "  * let's try some in the Python interpreter"
   ]
  },
  {
   "cell_type": "code",
   "execution_count": null,
   "metadata": {
    "slideshow": {
     "slide_type": "-"
    }
   },
   "outputs": [],
   "source": [
    "2 + 3 == 5"
   ]
  },
  {
   "cell_type": "code",
   "execution_count": null,
   "metadata": {},
   "outputs": [],
   "source": [
    "x = 2 # assignment statement\n",
    "x == 3 # note the difference between = (assignment) and == (testing for equality)"
   ]
  },
  {
   "cell_type": "code",
   "execution_count": null,
   "metadata": {},
   "outputs": [],
   "source": [
    "x != 3"
   ]
  },
  {
   "cell_type": "markdown",
   "metadata": {},
   "source": [
    "* True and False are special values that are built-in to Python\n",
    "* the other operators are:\n",
    "  * __`>, >=`__\n",
    "  * __`<, <=`__\n",
    "  * and __`==`__, __`!=`__, as we've seen"
   ]
  },
  {
   "cell_type": "markdown",
   "metadata": {
    "slideshow": {
     "slide_type": "subslide"
    }
   },
   "source": [
    "## Lab: Boolean Expressions\n",
    "* write a Boolean expression to determine whether the variable __xyz__ is greater than 100 (you will have to define the variable first)\n",
    "* write a Boolean expression to determine whether the variable __company__ is equal to the string 'salesforce'"
   ]
  },
  {
   "cell_type": "code",
   "execution_count": 31,
   "metadata": {},
   "outputs": [
    {
     "name": "stdout",
     "output_type": "stream",
     "text": [
      "Is xyz > 100?: False . Is variable company equals to salesforce?: True\n"
     ]
    }
   ],
   "source": [
    "xyz = 2\n",
    "company = 'salesforce'\n",
    "\n",
    "print (\"Is xyz > 100?:\", xyz > 100, \". Is variable company equals to salesforce?:\", company == 'salesforce')"
   ]
  },
  {
   "cell_type": "markdown",
   "metadata": {
    "slideshow": {
     "slide_type": "subslide"
    }
   },
   "source": [
    "## Logical Operators\n",
    "* there are three: __`and`__, __`or`__, __`not`__\n",
    "* they mean roughly the same thing as they mean in English:\n",
    "  * __if you finish your homework AND the temperature is above freezing, you can play in the yard__\n",
    "  * __if it snows OR the temperature is lower than 20ºF, school will be canceled__\n",
    "  * __if it is NOT past 9pm, the library should be open__\n",
    "  * __`x > 0 and x < 10`__ means __x is greater than 0 _and_ less than 10__\n",
    "  * __`x > 0 or y < 5`__ means  __either__ x is greater than 0 _or_ y is less than 5 (or both)__"
   ]
  },
  {
   "cell_type": "markdown",
   "metadata": {
    "slideshow": {
     "slide_type": "subslide"
    }
   },
   "source": [
    "## Boolean Algebra\n",
    "* let's see how George Boole's algebra works in Python\n",
    "* to do this, we can make _truth tables_ which show how the logical operators interact with True and False values..."
   ]
  },
  {
   "cell_type": "code",
   "execution_count": null,
   "metadata": {
    "slideshow": {
     "slide_type": "-"
    }
   },
   "outputs": [],
   "source": [
    "# and\n",
    "print(False and False)\n",
    "print(False and True)\n",
    "print(True and False)\n",
    "print(True and True)"
   ]
  },
  {
   "cell_type": "code",
   "execution_count": null,
   "metadata": {
    "slideshow": {
     "slide_type": "subslide"
    }
   },
   "outputs": [],
   "source": [
    "# or\n",
    "print(False or False)\n",
    "print(False or True)\n",
    "print(True or False)\n",
    "print(True or True)"
   ]
  },
  {
   "cell_type": "code",
   "execution_count": null,
   "metadata": {
    "slideshow": {
     "slide_type": "subslide"
    }
   },
   "outputs": [],
   "source": [
    "# not\n",
    "print(not False)\n",
    "print(not True)"
   ]
  },
  {
   "cell_type": "code",
   "execution_count": null,
   "metadata": {},
   "outputs": [],
   "source": [
    "bval = None\n",
    "if bval:\n",
    "    print(True)\n",
    "else:\n",
    "    print(False)"
   ]
  },
  {
   "cell_type": "code",
   "execution_count": null,
   "metadata": {},
   "outputs": [],
   "source": [
    "# strictly speaking, the operands of logical operators should be boolean expressions\n",
    "# ...but Python isn't strict about it–any non-zero value is considered \"True\" in Python\n",
    "y = 4\n",
    "print('y =', y)\n",
    "True and y"
   ]
  },
  {
   "cell_type": "code",
   "execution_count": 32,
   "metadata": {},
   "outputs": [
    {
     "data": {
      "text/plain": [
       "0"
      ]
     },
     "execution_count": 32,
     "metadata": {},
     "output_type": "execute_result"
    }
   ],
   "source": [
    "# and 0 is considered False\n",
    "y = 0\n",
    "True and y"
   ]
  },
  {
   "cell_type": "code",
   "execution_count": 38,
   "metadata": {},
   "outputs": [
    {
     "data": {
      "text/plain": [
       "'Default'"
      ]
     },
     "execution_count": 38,
     "metadata": {},
     "output_type": "execute_result"
    }
   ],
   "source": [
    "arg = ''\n",
    "arg = arg or 'Default'\n",
    "arg"
   ]
  },
  {
   "cell_type": "code",
   "execution_count": 35,
   "metadata": {},
   "outputs": [
    {
     "data": {
      "text/plain": [
       "True"
      ]
     },
     "execution_count": 35,
     "metadata": {},
     "output_type": "execute_result"
    }
   ],
   "source": [
    "# ...as is an empty string\n",
    "empty = ''\n",
    "not empty"
   ]
  },
  {
   "cell_type": "markdown",
   "metadata": {
    "collapsed": true,
    "slideshow": {
     "slide_type": "subslide"
    }
   },
   "source": [
    "## Lab: Boolean Algebra\n",
    "* write a Boolean expression which determines whether __year__ is equal to 2017 and __xyz__ is less than 10"
   ]
  },
  {
   "cell_type": "code",
   "execution_count": 36,
   "metadata": {},
   "outputs": [
    {
     "data": {
      "text/plain": [
       "False"
      ]
     },
     "execution_count": 36,
     "metadata": {},
     "output_type": "execute_result"
    }
   ],
   "source": [
    "year = 3000\n",
    "xyz = 454\n",
    "year == 2017 and xyz < 10"
   ]
  },
  {
   "cell_type": "markdown",
   "metadata": {
    "slideshow": {
     "slide_type": "subslide"
    }
   },
   "source": [
    "## Boolean Variables in Python\n",
    "* at this point, it probably won't surprise you to find out that Python also has Boolean variables, i.e., variables that contain the special value True or False\n",
    "* we will see how to use Boolean variables later, but for now we will demonstrate..."
   ]
  },
  {
   "cell_type": "code",
   "execution_count": 39,
   "metadata": {},
   "outputs": [
    {
     "data": {
      "text/plain": [
       "bool"
      ]
     },
     "execution_count": 39,
     "metadata": {},
     "output_type": "execute_result"
    }
   ],
   "source": [
    "ok = True\n",
    "type(ok)"
   ]
  },
  {
   "cell_type": "code",
   "execution_count": 40,
   "metadata": {},
   "outputs": [
    {
     "data": {
      "text/plain": [
       "True"
      ]
     },
     "execution_count": 40,
     "metadata": {},
     "output_type": "execute_result"
    }
   ],
   "source": [
    "is_even = 42 % 2 == 0 # Is 42 even? In other words is there no remainder when dividing 42 by 2?\n",
    "is_even"
   ]
  },
  {
   "cell_type": "markdown",
   "metadata": {
    "slideshow": {
     "slide_type": "subslide"
    }
   },
   "source": [
    "## Lab: Boolean Variables\n",
    "* create a Boolean variable which determines whether the variable __company__ is equal to 'salesforce'"
   ]
  },
  {
   "cell_type": "code",
   "execution_count": 45,
   "metadata": {},
   "outputs": [
    {
     "data": {
      "text/plain": [
       "True"
      ]
     },
     "execution_count": 45,
     "metadata": {},
     "output_type": "execute_result"
    }
   ],
   "source": [
    "company = 'salesforce'\n",
    "is_company_salesforce = (company == 'salesforce')\n",
    "is_company_salesforce"
   ]
  },
  {
   "cell_type": "markdown",
   "metadata": {
    "slideshow": {
     "slide_type": "subslide"
    }
   },
   "source": [
    "## Type Conversion Functions\n",
    "* Python has built-in type conversion functions that let you convert a value of one type to another (within reason)\n",
    "* __`int(x)`__ will convert __`x`__ to an integer\n",
    "  * only works if __`x`__ can be converted to an integer\n",
    "* __`float(x)`__ will convert __`x`__ to a floating point number\n",
    "  * only works if __`x`__ can be converted to a float\n",
    "* __`str(x)`__ will convert __`x`__ to a string\n",
    "  * always works\n",
    "* __`bool(x)`__ will convert __`x`__ to a bool\n",
    "  * always works"
   ]
  },
  {
   "cell_type": "code",
   "execution_count": 1,
   "metadata": {},
   "outputs": [
    {
     "data": {
      "text/plain": [
       "35"
      ]
     },
     "execution_count": 1,
     "metadata": {},
     "output_type": "execute_result"
    }
   ],
   "source": [
    "int(35.5)"
   ]
  },
  {
   "cell_type": "code",
   "execution_count": 2,
   "metadata": {},
   "outputs": [
    {
     "ename": "ValueError",
     "evalue": "invalid literal for int() with base 10: '35.5'",
     "output_type": "error",
     "traceback": [
      "\u001b[0;31m---------------------------------------------------------------------------\u001b[0m",
      "\u001b[0;31mValueError\u001b[0m                                Traceback (most recent call last)",
      "\u001b[0;32m<ipython-input-2-cd72d73e6c86>\u001b[0m in \u001b[0;36m<module>\u001b[0;34m\u001b[0m\n\u001b[0;32m----> 1\u001b[0;31m \u001b[0mint\u001b[0m\u001b[0;34m(\u001b[0m\u001b[0;34m'35.5'\u001b[0m\u001b[0;34m)\u001b[0m\u001b[0;34m\u001b[0m\u001b[0;34m\u001b[0m\u001b[0m\n\u001b[0m",
      "\u001b[0;31mValueError\u001b[0m: invalid literal for int() with base 10: '35.5'"
     ]
    }
   ],
   "source": [
    "int('35.5')"
   ]
  },
  {
   "cell_type": "code",
   "execution_count": 8,
   "metadata": {},
   "outputs": [
    {
     "data": {
      "text/plain": [
       "35"
      ]
     },
     "execution_count": 8,
     "metadata": {},
     "output_type": "execute_result"
    }
   ],
   "source": [
    "int(float('35.5'))\n"
   ]
  },
  {
   "cell_type": "code",
   "execution_count": 11,
   "metadata": {
    "scrolled": false
   },
   "outputs": [
    {
     "data": {
      "text/plain": [
       "1.0"
      ]
     },
     "execution_count": 11,
     "metadata": {},
     "output_type": "execute_result"
    }
   ],
   "source": [
    "float(1)\n"
   ]
  },
  {
   "cell_type": "code",
   "execution_count": 5,
   "metadata": {
    "scrolled": true
   },
   "outputs": [
    {
     "data": {
      "text/plain": [
       "'3.14159'"
      ]
     },
     "execution_count": 5,
     "metadata": {},
     "output_type": "execute_result"
    }
   ],
   "source": [
    "str(3.14159)"
   ]
  },
  {
   "cell_type": "code",
   "execution_count": 12,
   "metadata": {},
   "outputs": [
    {
     "data": {
      "text/plain": [
       "(False, True, False)"
      ]
     },
     "execution_count": 12,
     "metadata": {},
     "output_type": "execute_result"
    }
   ],
   "source": [
    "bool(''), bool(34), bool(not int(True))\n",
    "#bool(not int(True)) -> int(True) gives 1 & \"not 1\" gives False (it is not zero) & bool of False is False"
   ]
  },
  {
   "cell_type": "markdown",
   "metadata": {
    "slideshow": {
     "slide_type": "subslide"
    }
   },
   "source": [
    "## Lab: Type Conversion\n",
    "* write Python code to prompt the user to enter a year\n",
    "* ...then reads input from the user\n",
    "* ...then converts what was read into an integer\n",
    "* print out the final result and verify that it's an integer\n",
    "* your output should look something like this:\n",
    "\n",
    "<pre><b>\n",
    "Enter a year: 2017\n",
    "The year you entered was 2017.\n",
    "\n",
    "&lt;class 'int'>\n",
    "</b></pre>"
   ]
  },
  {
   "cell_type": "code",
   "execution_count": 31,
   "metadata": {},
   "outputs": [
    {
     "name": "stdout",
     "output_type": "stream",
     "text": [
      "Enter a year:34242\n",
      "\u001b[1m Enter a year: 34242 \n",
      " The year you entered was 34242. \n",
      "\n",
      " <class 'int'>\n"
     ]
    }
   ],
   "source": [
    "user_input = input(\"Enter a year:\")\n",
    "user_input_int = int(user_input)\n",
    "#print (f\"The year you entered was {user_input_int}.\")\n",
    "#print (\"The year you entered was \", user_input_int, \".\", sep='')\n",
    "#print (type (user_input_int))\n",
    "#print (\"one line print statement:\")\n",
    "#print (f\"The year you entered was {user_input_int}. \\n\\n {type(user_input_int)}\")\n",
    "#make the output bold\n",
    "print (f\"\\033[1m Enter a year: {user_input_int} \\n The year you entered was {user_input_int}. \\n\\n {type(user_input_int)}\")\n"
   ]
  },
  {
   "cell_type": "code",
   "execution_count": 19,
   "metadata": {},
   "outputs": [
    {
     "name": "stdout",
     "output_type": "stream",
     "text": [
      "This is an int: 7\n",
      "This is also an int: 13, str: mystring\n",
      "This is yet again an int: 5\n"
     ]
    }
   ],
   "source": [
    "## String formatting\n",
    "num = 5\n",
    "print('This is an int: %s' % 7)\n",
    "print('This is also an int: {num}, str: {whatever}'.format(num=13, whatever='mystring'))\n",
    "print(f'This is yet again an int: {num}')"
   ]
  },
  {
   "cell_type": "code",
   "execution_count": null,
   "metadata": {},
   "outputs": [],
   "source": [
    "## Everything is an object!\n",
    "\n",
    "n = int(7)\n",
    "print(n.__class__)\n",
    "print(dir(n))\n",
    "n.bit_length()\n",
    "help(n.bit_length)"
   ]
  },
  {
   "cell_type": "code",
   "execution_count": 33,
   "metadata": {},
   "outputs": [
    {
     "ename": "TypeError",
     "evalue": "can only concatenate str (not \"int\") to str",
     "output_type": "error",
     "traceback": [
      "\u001b[0;31m---------------------------------------------------------------------------\u001b[0m",
      "\u001b[0;31mTypeError\u001b[0m                                 Traceback (most recent call last)",
      "\u001b[0;32m<ipython-input-33-25f2916ad0b8>\u001b[0m in \u001b[0;36m<module>\u001b[0;34m\u001b[0m\n\u001b[1;32m      3\u001b[0m \u001b[0;31m# s + n  Error!\u001b[0m\u001b[0;34m\u001b[0m\u001b[0;34m\u001b[0m\u001b[0;34m\u001b[0m\u001b[0m\n\u001b[1;32m      4\u001b[0m \u001b[0mdir\u001b[0m\u001b[0;34m(\u001b[0m\u001b[0ms\u001b[0m\u001b[0;34m)\u001b[0m\u001b[0;34m\u001b[0m\u001b[0;34m\u001b[0m\u001b[0m\n\u001b[0;32m----> 5\u001b[0;31m \u001b[0ms\u001b[0m\u001b[0;34m.\u001b[0m\u001b[0m__add__\u001b[0m\u001b[0;34m(\u001b[0m\u001b[0mn\u001b[0m\u001b[0;34m)\u001b[0m \u001b[0;31m# since 'n' is not string, __add__ is not able to add 's' and 'n'. Change 'n' to string and this line of code will work\u001b[0m\u001b[0;34m\u001b[0m\u001b[0;34m\u001b[0m\u001b[0m\n\u001b[0m",
      "\u001b[0;31mTypeError\u001b[0m: can only concatenate str (not \"int\") to str"
     ]
    }
   ],
   "source": [
    "s = 'abc'\n",
    "n = 123\n",
    "# s + n  Error!\n",
    "dir(s)\n",
    "s.__add__(n) # since 'n' is not string, __add__ is not able to add 's' and 'n'. Change 'n' to string and this line of code will work"
   ]
  },
  {
   "cell_type": "markdown",
   "metadata": {
    "slideshow": {
     "slide_type": "subslide"
    }
   },
   "source": [
    "## String Operations\n",
    "* you can't do arithmetic on strings, even if the value inside the string looks like a number...\n",
    "* so, __`'2' + '4'`__ is not __`'6'`__ in Python\n",
    "* but the + and * operators work on strings...\n",
    "  * __`+`__ = _concatenation_ (__`'good' + 'bye'`__ yields __`'goodbye'`__)\n",
    "  * __`*`__ = replication (__`'good' * 4`__ yields __`'goodgoodgoodgood'`__)"
   ]
  },
  {
   "cell_type": "code",
   "execution_count": null,
   "metadata": {},
   "outputs": [],
   "source": [
    "name = input('Name? ')\n",
    "message = 'Hello ' + name + ', how are you?'\n",
    "message"
   ]
  },
  {
   "cell_type": "code",
   "execution_count": 34,
   "metadata": {},
   "outputs": [
    {
     "name": "stdout",
     "output_type": "stream",
     "text": [
      "1234567890123456789012345678901234567890\n",
      "----------------------------------------\n"
     ]
    }
   ],
   "source": [
    "ruler = '1234567890' * 4\n",
    "line = '-' * 40 # instead of 40, you can do len(ruler) or (4*10)\n",
    "print(ruler)\n",
    "print(line)"
   ]
  },
  {
   "cell_type": "markdown",
   "metadata": {
    "slideshow": {
     "slide_type": "subslide"
    }
   },
   "source": [
    "## Lab: Strings\n",
    "* read in two separate strings from the user\n",
    "* create a new string which consists of the second string followed by a space, followed by the first string\n",
    "* e.g, \"hello\" and \"there\" would become \"there hello\""
   ]
  },
  {
   "cell_type": "code",
   "execution_count": 42,
   "metadata": {},
   "outputs": [
    {
     "name": "stdout",
     "output_type": "stream",
     "text": [
      "enter you first text:dsfsd\n",
      "enter you second text:dsfsd\n"
     ]
    },
    {
     "data": {
      "text/plain": [
       "'dsfsd dsfsd'"
      ]
     },
     "execution_count": 42,
     "metadata": {},
     "output_type": "execute_result"
    }
   ],
   "source": [
    "str1=input(\"enter you first text:\")\n",
    "str2=input(\"enter you second text:\")\n",
    "str2+\" \"+str1\n"
   ]
  },
  {
   "cell_type": "markdown",
   "metadata": {
    "slideshow": {
     "slide_type": "subslide"
    }
   },
   "source": [
    "## Indexing Strings\n",
    "* we can access the individual characters of a string using brackets–__`[]`__\n",
    "* the first character of a string is at index 0 (all counting in computer science begins with 0)"
   ]
  },
  {
   "cell_type": "code",
   "execution_count": 52,
   "metadata": {
    "slideshow": {
     "slide_type": "-"
    }
   },
   "outputs": [
    {
     "name": "stdout",
     "output_type": "stream",
     "text": [
      "Enter your name: sdfsdfds\n",
      "The first character of sdfsdfds is s\n"
     ]
    }
   ],
   "source": [
    "name = input('Enter your name: ')\n",
    "print('The first character of', name, 'is', name[0])"
   ]
  },
  {
   "cell_type": "markdown",
   "metadata": {
    "slideshow": {
     "slide_type": "subslide"
    }
   },
   "source": [
    "## Lab: Indexing Strings\n",
    "* prompt the user and read a string\n",
    "* prompt the user for an index\n",
    "*  use the index to print out the character at that offset (e.g., if user enters '3', you would print out the [3] character of the string\n",
    "* what happens if you hit return (i.e., enter an \"empty string\")?\n",
    "* what happens if you set the zeroth character of the string you read to 'x'\n",
    "    * __`name[0] = 'x'`__"
   ]
  },
  {
   "cell_type": "code",
   "execution_count": 54,
   "metadata": {},
   "outputs": [
    {
     "name": "stdout",
     "output_type": "stream",
     "text": [
      "enter your str:efsd\n",
      "enter your index:3\n"
     ]
    },
    {
     "ename": "TypeError",
     "evalue": "'str' object does not support item assignment",
     "output_type": "error",
     "traceback": [
      "\u001b[0;31m---------------------------------------------------------------------------\u001b[0m",
      "\u001b[0;31mTypeError\u001b[0m                                 Traceback (most recent call last)",
      "\u001b[0;32m<ipython-input-54-15e2ad223ff0>\u001b[0m in \u001b[0;36m<module>\u001b[0;34m\u001b[0m\n\u001b[1;32m      2\u001b[0m \u001b[0muser_inx\u001b[0m \u001b[0;34m=\u001b[0m \u001b[0mint\u001b[0m\u001b[0;34m(\u001b[0m\u001b[0minput\u001b[0m\u001b[0;34m(\u001b[0m\u001b[0;34m\"enter your index:\"\u001b[0m\u001b[0;34m)\u001b[0m\u001b[0;34m)\u001b[0m\u001b[0;34m\u001b[0m\u001b[0;34m\u001b[0m\u001b[0m\n\u001b[1;32m      3\u001b[0m \u001b[0muser_str\u001b[0m\u001b[0;34m[\u001b[0m\u001b[0muser_inx\u001b[0m\u001b[0;34m]\u001b[0m\u001b[0;34m\u001b[0m\u001b[0;34m\u001b[0m\u001b[0m\n\u001b[0;32m----> 4\u001b[0;31m \u001b[0mname\u001b[0m\u001b[0;34m[\u001b[0m\u001b[0;36m0\u001b[0m\u001b[0;34m]\u001b[0m\u001b[0;34m=\u001b[0m\u001b[0;34m'x'\u001b[0m \u001b[0;31m# throws \"TypeError: 'str' object does not support item assignment\" becasue str obj is immutable, so, value cannot be assigned\u001b[0m\u001b[0;34m\u001b[0m\u001b[0;34m\u001b[0m\u001b[0m\n\u001b[0m",
      "\u001b[0;31mTypeError\u001b[0m: 'str' object does not support item assignment"
     ]
    }
   ],
   "source": [
    "user_str = input(\"enter your str:\")\n",
    "user_inx = int(input(\"enter your index:\"))\n",
    "user_str[user_inx]\n",
    "name[0]='x' # throws \"TypeError: 'str' object does not support item assignment\" becasue str obj is immutable, so, value cannot be assigned\n"
   ]
  },
  {
   "cell_type": "markdown",
   "metadata": {
    "slideshow": {
     "slide_type": "subslide"
    }
   },
   "source": [
    "## Composition\n",
    "* one of the most useful features of Python (and other programming languages) is their ability to take small building blocks and compose them\n",
    "* e.g., we know how to add numbers and we know how to print–we already know we can do both at the same time, which is what we mean by composition:\n",
    "  * __`print(x + 17)`__\n",
    "* we can get more complex, e.g.,\n",
    "  * __`seconds = hours * 3600 + minutes * 60`__\n"
   ]
  },
  {
   "cell_type": "code",
   "execution_count": null,
   "metadata": {},
   "outputs": [],
   "source": [
    "# The dis(assembly) module will show us something interesting...\n",
    "# the bytecode into which Python is translated\n",
    "import dis\n",
    "dis.dis('x = 3; print(x + 17)')"
   ]
  },
  {
   "cell_type": "code",
   "execution_count": null,
   "metadata": {},
   "outputs": [],
   "source": [
    "r = print('Hello')\n",
    "print(r)"
   ]
  },
  {
   "cell_type": "markdown",
   "metadata": {
    "slideshow": {
     "slide_type": "slide"
    }
   },
   "source": [
    "# Statements"
   ]
  },
  {
   "cell_type": "markdown",
   "metadata": {
    "slideshow": {
     "slide_type": "subslide"
    }
   },
   "source": [
    "## Conditional Execution\n",
    "* in order to write useful programs, we typically need the ability to check some condition and change the behavior of the program accordingly\n",
    "* conditional statements give us this ability\n",
    "* the simplest form is the if statement..."
   ]
  },
  {
   "cell_type": "code",
   "execution_count": null,
   "metadata": {},
   "outputs": [],
   "source": [
    "year = int(input('Enter a year: '))\n",
    "# convert from string to integer\n",
    "\n",
    "if year > 2000:\n",
    "    print('blah', 'indented statement', 'something',\n",
    "          sep='\\n')\n",
    "    print('another')\n",
    "    \n",
    "print('after the if statement')"
   ]
  },
  {
   "cell_type": "markdown",
   "metadata": {},
   "source": [
    "* the boolean expression after the __`if`__ statement is called the condition\n",
    "* if the condition is true, then the indented statement (or statements) gets executed\n",
    "* if the condition is false, then nothing happens\n",
    "* the __`if`__ statement is made up of a header and a block of statements, like so\n",
    "    \n",
    "<img src=\"images/compound.png\" alt=\"Drawing\" style=\"width: 250px;\"/>\n",
    "\n",
    "* the header begins on a new line and ends with a colon (:)\n",
    "* the indented statements that follow are called a block\n",
    "* the first unindented statement marks the end of the block"
   ]
  },
  {
   "cell_type": "markdown",
   "metadata": {
    "slideshow": {
     "slide_type": "subslide"
    }
   },
   "source": [
    "## Python Indentation\n",
    "* indentation is one of the bugbagoos of Python\n",
    "* as we saw with the __`if`__ statement, we must introduce a new block with a colon\n",
    "  * ...and then indent all of the statements in the block\n",
    "  * all statements in the block must be indented the same amount\n",
    "  * don't use TABs, use spaces (Python will complain if you mix TABs and spaces)\n",
    "  * Python recommends 4 spaces per level of indentation"
   ]
  },
  {
   "cell_type": "markdown",
   "metadata": {
    "slideshow": {
     "slide_type": "subslide"
    }
   },
   "source": [
    "## Chained Conditionals\n",
    "* sometimes there are more than two possibilities and we need more than two branches\n",
    "* one way to express a computation like that is a chained conditional..."
   ]
  },
  {
   "cell_type": "code",
   "execution_count": null,
   "metadata": {},
   "outputs": [],
   "source": [
    "x, y = 9, 5 # in Python we can assign multiple values to multiple\n",
    "            # variables, but only do it this way if the variables\n",
    "            # are related\n",
    "\n",
    "if x < y:\n",
    "    print(x, \"is less than\", y)\n",
    "elif x > y:\n",
    "    print(x, \"is greater than\", y)\n",
    "else:\n",
    "    print(x, \"and\", y, \"are equal\")"
   ]
  },
  {
   "cell_type": "markdown",
   "metadata": {},
   "source": [
    "* __`elif`__ means _else if_, which is optional\n",
    "* there is no limit to the number of __`elif`__ statements\n",
    "* if there is an __`else`__, it has to be the last branch"
   ]
  },
  {
   "cell_type": "markdown",
   "metadata": {
    "slideshow": {
     "slide_type": "subslide"
    }
   },
   "source": [
    "## Nested Conditionals\n",
    "* one conditional can be nested within another\n",
    "* therefore, we could have written the previous __`if`__ statement as follows:\n"
   ]
  },
  {
   "cell_type": "code",
   "execution_count": null,
   "metadata": {},
   "outputs": [],
   "source": [
    "x = 15.2\n",
    "y = 15.2\n",
    "if x == y:\n",
    "    print (x, \"and\", y, \"are equal\")\n",
    "else:\n",
    "    if x < y:\n",
    "        print(x, \"is less than\", y)\n",
    "    else:\n",
    "        print(x, \"is greater than\", y)"
   ]
  },
  {
   "cell_type": "markdown",
   "metadata": {
    "slideshow": {
     "slide_type": "subslide"
    }
   },
   "source": [
    "## Lab: Odd-Even Program (our first program that does something)\n",
    "1. prompt the user to enter a number\n",
    "2. read input from the user\n",
    "3. convert the input to an integer\n",
    "4. tell the user whether the number entered was odd or even\n"
   ]
  },
  {
   "cell_type": "code",
   "execution_count": 61,
   "metadata": {},
   "outputs": [
    {
     "name": "stdout",
     "output_type": "stream",
     "text": [
      "please enter a number: 24214235\n",
      "it's odd number\n"
     ]
    }
   ],
   "source": [
    "user_input = int(input(\"please enter a number: \"))\n",
    "if user_input % 2 == 0:\n",
    "    print (\"it's even number\")\n",
    "else:\n",
    "    print (\"it's odd number\")\n"
   ]
  },
  {
   "cell_type": "markdown",
   "metadata": {},
   "source": [
    "## Lab: Leap Year Program\n",
    "1. prompt the user to enter a year\n",
    "2. read input from the user\n",
    "3. convert the input to an integer\n",
    "4. tell the user whether the year entered is a leap year or not\n",
    "  * a year is a leap year if\n",
    "  1. it's divisible by 4 AND\n",
    "  2. it's not divisible by 100 (i.e., 1900 was not a leap year) UNLESS\n",
    "  3. it's also divisible by 400 (i.e., 2000 was a leap year)"
   ]
  },
  {
   "cell_type": "code",
   "execution_count": 95,
   "metadata": {},
   "outputs": [
    {
     "name": "stdout",
     "output_type": "stream",
     "text": [
      "please enter a year (YYYY): 0\n",
      "starting 1st method\n",
      "leap year 1.1\n",
      "done 1. \n",
      "starting 2nd method\n",
      "-------------\n",
      "leap year 2.1\n"
     ]
    }
   ],
   "source": [
    "user_input = int(input(\"please enter a year (YYYY): \"))\n",
    "print (\"starting 1st method\")\n",
    "if (user_input % 4 == 0):\n",
    "    if (user_input % 100 == 0):\n",
    "        if (user_input % 400 == 0):\n",
    "            print(\"leap year 1.1\")\n",
    "        else:\n",
    "            print(\"not leap year 1.2\")\n",
    "    else:\n",
    "        if (user_input % 100 != 0):\n",
    "            print(\"leap year 1.3\")\n",
    "        else:\n",
    "            print(\"not leap year 1.4\")\n",
    "else:\n",
    "    print(\"not leap year 1.5\")\n",
    "print (\"done 1. \\nstarting 2nd method\\n-------------\")\n",
    "\n",
    "if (user_input % 4 == 0 and user_input % 100 != 0) or (user_input % 400 == 0):\n",
    "    print (\"leap year 2.1\")\n",
    "else:\n",
    "    print (\"not leap year 2.2\")"
   ]
  },
  {
   "cell_type": "markdown",
   "metadata": {
    "slideshow": {
     "slide_type": "slide"
    }
   },
   "source": [
    "# The Art of Programming"
   ]
  },
  {
   "cell_type": "markdown",
   "metadata": {
    "slideshow": {
     "slide_type": "subslide"
    }
   },
   "source": [
    "## The Art of Programming\n",
    "* first off, what do we mean by programming?\n",
    "  * understanding the problem at hand\n",
    "  * formulating a solution to that problem as a series of steps\n",
    "  * converting those steps into code\n",
    "  * testing your code\n",
    "  * fixing bugs\n",
    "* next, what do we mean by art?\n",
    "  * coding is a procedure we follow, and as such, we could argue there isn't much 'art' involved\n",
    "  * however, experienced programmers often use their intuition and deep understanding of problems and coding practices to \"finesse\" a solution\n",
    "  * in a sense they can \"see\" the problem clearer, and therefore generate a solution quicker and often better than those who are inexperienced\n",
    "* so how do new programmers get to that point?\n",
    "  * just like the old joke about Carnegie Hall–practice, practice, practice!"
   ]
  },
  {
   "cell_type": "markdown",
   "metadata": {
    "slideshow": {
     "slide_type": "subslide"
    }
   },
   "source": [
    "## Converting a Problem Into Code\n",
    "1. be sure you understand the problem (do not start coding yet)\n",
    "2. write down the sequence of steps you use to solve that problem \"in real life\" (do not start coding yet)\n",
    "3. convert each step into the code to perform it\n",
    "\n",
    "__DO NOT WRITE CODE UNTIL YOU KNOW WHAT YOU ARE WRITING AND WHY YOU ARE WRITING IT!__"
   ]
  },
  {
   "cell_type": "markdown",
   "metadata": {},
   "source": [
    "## Mental Models\n",
    "* a _mental model_ is an explanation of someone's thought process about how something works in the real world\n",
    "* mental models can help generate an approach to solving problems\n",
    "* Kenneth Craik suggested in 1943 that the mind constructs \"small-scale models\" of reality that it uses to anticipate events\n",
    "* it is my belief that most bugs in our program occur because of an incorrect mental model\n",
    "  * if our understanding (or modeling) of a problem is flawed, then necessarily our code will be flawed\n",
    "* when code doesn't work, we may want to pay attention to our mental model and see if we can find flaws in it\n",
    "  * i.e., is there assumption we are making which is untrue?"
   ]
  },
  {
   "cell_type": "markdown",
   "metadata": {
    "slideshow": {
     "slide_type": "slide"
    }
   },
   "source": [
    "## Iteration\n",
    "* to _iterate_ is to _repeat_ something (in the case of programming, we will be repeating some code)"
   ]
  },
  {
   "cell_type": "markdown",
   "metadata": {
    "slideshow": {
     "slide_type": "subslide"
    }
   },
   "source": [
    "## The __`for`__ Loop\n",
    "* we use a __`for`__ loop when we want to repeat something a _known_ number of times\n",
    "* real world example–_drive for __5 blocks__ and then turn right_\n",
    "* there are two types of __`for`__ loops in Python\n",
    "  * looping through a numeric range\n",
    "  * looping through a _container_\n",
    "    * containers are Python data types which _contain_ things (e.g., a string contains characters)\n",
    "* syntax\n",
    "\n",
    "   <pre>\n",
    "      <b>\n",
    "      for variable in sequence:\n",
    "          statement(s)\n",
    "      </b>\n",
    "   </pre>\n",
    "* you choose the name of the _variable_, which should be something that makes sense\n",
    "<img src=\"images/python_for_loop.jpg\" alt=\"flow\" style=\"width: 350px;\"/>"
   ]
  },
  {
   "cell_type": "code",
   "execution_count": null,
   "metadata": {},
   "outputs": [],
   "source": [
    "# loop through a container (in this case,\n",
    "# the container is a string)\n",
    "\n",
    "for item in 'CONTAINER':\n",
    "    print(item)"
   ]
  },
  {
   "cell_type": "code",
   "execution_count": null,
   "metadata": {},
   "outputs": [],
   "source": [
    "# for reasons that are not important right now, a Python range always\n",
    "# excludes the last number ...so range(1, 10) means 1, 2, ..., 9\n",
    "\n",
    "for number in range(1, 10):\n",
    "    print(number)"
   ]
  },
  {
   "cell_type": "markdown",
   "metadata": {},
   "source": [
    "## Lab: for loops\n",
    "* write a Python program which asks the user for a string and then outputs the same string with each character duplicated\n",
    "  * e.g., if the user enters __salesforce__, your program will output __ssaalleessffoorrccee__\n",
    "* write a Python program to compute __`n! (= n * n - 1 * n - 2 ... * 1)`__\n",
    "  * so if the user enters a 5, your program should compute __`5 * 4 * 3 * 2 * 1 (120)`__"
   ]
  },
  {
   "cell_type": "code",
   "execution_count": 121,
   "metadata": {
    "scrolled": true
   },
   "outputs": [
    {
     "name": "stdout",
     "output_type": "stream",
     "text": [
      "enter your string: this\n"
     ]
    },
    {
     "data": {
      "text/plain": [
       "'tthhiiss'"
      ]
     },
     "execution_count": 121,
     "metadata": {},
     "output_type": "execute_result"
    }
   ],
   "source": [
    "user_input = input(\"enter your string: \")\n",
    "new_str = ''\n",
    "for letter in user_input:\n",
    "    new_str += letter*2\n",
    "new_str"
   ]
  },
  {
   "cell_type": "code",
   "execution_count": 8,
   "metadata": {},
   "outputs": [
    {
     "name": "stdout",
     "output_type": "stream",
     "text": [
      "enter your number: 0\n",
      "0! is 1\n"
     ]
    },
    {
     "ename": "SystemExit",
     "evalue": "0",
     "output_type": "error",
     "traceback": [
      "An exception has occurred, use %tb to see the full traceback.\n",
      "\u001b[0;31mSystemExit\u001b[0m\u001b[0;31m:\u001b[0m 0\n"
     ]
    }
   ],
   "source": [
    "import sys \n",
    "num_fac = int(input(\"enter your number: \"))\n",
    "\n",
    "while num_fac < 0:\n",
    "    num_fac = int(input(\"enter 0 or positive number: \"))\n",
    "\n",
    "if num_fac == 0:\n",
    "    print (\"0! is 1\")\n",
    "    #quit()\n",
    "    sys.exit(0)\n",
    "\n",
    "num_fac_original = num_fac\n",
    "\n",
    "#method 1\n",
    "num_fac_result = 1\n",
    "for number in range(1, num_fac+1):\n",
    "    num_fac_result = number * num_fac_result\n",
    "#    print (number)\n",
    "print (f\"{num_fac}! is (method 1):\",num_fac_result)\n",
    "\n",
    "#method 2  --> 0! doesn't work\n",
    "num_fac = num_fac_original\n",
    "if num_fac > 0:\n",
    "    for number in range(num_fac, 1, -1):\n",
    "        num_fac = num_fac * (number - 1)\n",
    "    print(f\"{num_fac_original}! is (method 2):\", num_fac)\n",
    "\n",
    "#method 3\n",
    "num_fac = num_fac_original\n",
    "import math\n",
    "print (f\"{num_fac_original}! is (method 3):\", math.factorial(num_fac))"
   ]
  },
  {
   "cell_type": "markdown",
   "metadata": {
    "slideshow": {
     "slide_type": "subslide"
    }
   },
   "source": [
    "## The __`while`__ Loop\n",
    "* we use a __`while`__ loop when we want to repeat something an _unknown_ number of times\n",
    "* real world example–_keep driving until you get to a traffic light, then turn right_\n",
    "* a __`while`__ loop checks a boolean condition and keeps going until the condition becomes false \n",
    "* much less common than __`for`__ loops\n",
    "* syntax\n",
    "\n",
    "   <pre>\n",
    "      <b>\n",
    "      while condition:\n",
    "          statement(s)\n",
    "      </b>\n",
    "   </pre>\n",
    "        \n",
    "<img src=\"images/python_while_loop.jpg\" alt=\"flow\" style=\"width: 350px;\"/>\n"
   ]
  },
  {
   "cell_type": "code",
   "execution_count": 168,
   "metadata": {},
   "outputs": [
    {
     "name": "stdout",
     "output_type": "stream",
     "text": [
      "Enter a positive number: 0\n",
      "Enter a positive number: -1\n",
      "Enter a positive number: 2\n"
     ]
    }
   ],
   "source": [
    "num = 0\n",
    "while num < 1:\n",
    "    num = int(input(\n",
    "        \"Enter a positive number: \"))"
   ]
  },
  {
   "cell_type": "markdown",
   "metadata": {},
   "source": [
    "## Lab: while loops\n",
    "1. write Python code which prompts the user to enter a 5-letter string\n",
    "  * it then reads input from the user and stops if the user did in fact enter a 5-letter string\n",
    "  * otherwise, it prints an error message, and once again asks the user to enter a 5-letter string\n",
    "2. write a Python program which picks a random number between 1 and 100 and asks the user to guess it\n",
    "  * if the user's guess is too high, say it's too high\n",
    "  * if the user's guess is too low, say it's too low\n",
    "  * if the user's guess is correct, say it's correct and stop looping\n",
    "  * you can use the code below to get a random number\n",
    "  \n",
    "  <pre><b>\n",
    "  import random\n",
    "  number = random.randint(1, 100)\n",
    "  </b></pre>"
   ]
  },
  {
   "cell_type": "code",
   "execution_count": 175,
   "metadata": {},
   "outputs": [
    {
     "name": "stdout",
     "output_type": "stream",
     "text": [
      "enter 5 letter string: r\n",
      "enter 5 letter string: e\n",
      "enter 5 letter string: rte\n",
      "enter 5 letter string: fdfdgd\n",
      "enter 5 letter string: fasd\n",
      "enter 5 letter string: dgfda\n"
     ]
    }
   ],
   "source": [
    "#user_str = input(\"enter 5 letter string: \")\n",
    "my_str_len = 5\n",
    "user_str = ''\n",
    "while len(user_str) != my_str_len:\n",
    "    user_str = input(\"enter 5 letter string: \")"
   ]
  },
  {
   "cell_type": "code",
   "execution_count": 186,
   "metadata": {},
   "outputs": [
    {
     "name": "stdout",
     "output_type": "stream",
     "text": [
      "random number: 65\n",
      "enter your number: 65\n",
      "you guessed it correct! random number is: 65 your number is: 65\n"
     ]
    }
   ],
   "source": [
    "import random\n",
    "number = random.randint(1, 100)\n",
    "user_input_number = ''\n",
    "print(\"random number:\", number)\n",
    "while number != user_input_number:\n",
    "    user_input_number = int(input(\"enter your number: \"))\n",
    "    if user_input_number > number:\n",
    "        print (\"your guess is too high\")\n",
    "    if user_input_number < number:\n",
    "        print (\"your guess is too low\")\n",
    "print (\"you guessed it correct!\", \"random number is:\", number, \"your number is:\", user_input_number)"
   ]
  },
  {
   "cell_type": "markdown",
   "metadata": {
    "slideshow": {
     "slide_type": "subslide"
    }
   },
   "source": [
    "\n",
    "## Syntax Common to Both __`for`__ and __`while`__ Loops\n",
    "* the __`break`__ statement is used to immediately exit a loop\n",
    "* the __`continue`__ statement is used to skip the rest of the loop and continue with the next iteration\n",
    "* the __`else`__ clause is executed only if the loop finished _normally_–meaning it did not finish as a result of a __`break`__ statement\n",
    "  * __`else`__ is a terrible name and we just have to live with it\n",
    "* let's see examples of each of these..."
   ]
  },
  {
   "cell_type": "markdown",
   "metadata": {},
   "source": [
    "###### 'break' example: find the first multiple\n",
    "# of 37 >= to the entered number\n",
    "\n",
    "num = int(input('Enter low number: '))\n",
    "\n",
    "for check in range(num, num + 37):\n",
    "    if check % 37 == 0: # num is divisible by 37\n",
    "        print('First multiple of 37 above',\n",
    "              num, 'is', check)\n",
    "        break # quit the loop right now"
   ]
  },
  {
   "cell_type": "code",
   "execution_count": null,
   "metadata": {},
   "outputs": [],
   "source": [
    "# 'continue' example: print out whether numbers are even or odd\n",
    "\n",
    "for num in range(2, 11): # 2..10\n",
    "    if num % 2 == 0: # if num is divisible by 2 (hence even)\n",
    "        print(num, 'is even')\n",
    "        continue # skip next line and iterate again\n",
    "    print(num, 'is odd')"
   ]
  },
  {
   "cell_type": "code",
   "execution_count": 19,
   "metadata": {},
   "outputs": [
    {
     "name": "stdout",
     "output_type": "stream",
     "text": [
      "Enter a 5-letter word: dsfsd\n",
      "This will always execute\n"
     ]
    }
   ],
   "source": [
    "# else example\n",
    "\n",
    "for num in range(1, 6): # 1..5\n",
    "    word = input('Enter a 5-letter word: ')\n",
    "    # here we see a new function, len()\n",
    "    if len(word) == 5:\n",
    "        break\n",
    "# this is only executed if we didn't 'break' out of the loop\n",
    "else:\n",
    "    print(\"Why can't you follow directions?\")\n",
    "print('This will always execute')"
   ]
  },
  {
   "cell_type": "markdown",
   "metadata": {},
   "source": [
    "## Lab: break/continue/else\n",
    "* modify your guessing game to add the option for the user to give up by typing a 0 as his or her guess:\n",
    "    * if the user enters a 0, exit the loop\n",
    "    * after the loop, we need to determine   \n",
    "    whether the user gave up or guessed the   \n",
    "    number correctly\n",
    "    * if gave up, print 'sorry you\n",
    "     gave up'\n",
    "    * if correct, print 'got it!'\n",
    "</pre>\n"
   ]
  },
  {
   "cell_type": "code",
   "execution_count": null,
   "metadata": {},
   "outputs": [],
   "source": []
  },
  {
   "cell_type": "markdown",
   "metadata": {
    "slideshow": {
     "slide_type": "subslide"
    }
   },
   "source": [
    "## Post-Test Loops\n",
    "* occasionally we want a loop where the test is performed at the end of the loop\n",
    "* some languages have a special _do-while_ loop for this case, but that doesn't exist in Python\n",
    "* we can simulate a _do-while_ loop in Python as follows:\n",
    "\n",
    " <pre>\n",
    "      <b>\n",
    "      while True:\n",
    "          statement(s)\n",
    "          if condition is false:\n",
    "              break\n",
    "      </b>\n",
    "   </pre>"
   ]
  },
  {
   "cell_type": "code",
   "execution_count": null,
   "metadata": {},
   "outputs": [],
   "source": [
    "# keep adding numbers until user enters a 0\n",
    "\n",
    "total = 0\n",
    "\n",
    "while True: # infinite loop, so we must have a 'break' somewhere in the loop\n",
    "    num = int(input('Enter a number: '))\n",
    "    total += num\n",
    "    if num == 0:\n",
    "        break\n",
    "\n",
    "print(total)"
   ]
  },
  {
   "cell_type": "markdown",
   "metadata": {
    "slideshow": {
     "slide_type": "subslide"
    }
   },
   "source": [
    "## Middle-Test Loops\n",
    "* like a post-test loop, we want a loop where the test is not performed at the top\n",
    "* in this case the test is performed in the middle\n",
    "* no language has a middle-test loop construct\n",
    "* we can perform a middle-test loop in Python as follows:\n",
    "\n",
    " <pre>\n",
    "      <b>\n",
    "      while True:\n",
    "          statement(s)\n",
    "          if condition is false:\n",
    "              break\n",
    "          statement(s)\n",
    "      </b>\n",
    "   </pre>"
   ]
  },
  {
   "cell_type": "code",
   "execution_count": null,
   "metadata": {},
   "outputs": [],
   "source": [
    "# sum up the numbers until user hits return\n",
    "\n",
    "total = 0\n",
    "\n",
    "while True: \n",
    "    num = input(\"Enter the next number (leave blank to end): \")\n",
    "    if num == '':\n",
    "        break\n",
    "    total += int(num)\n",
    "    \n",
    "print(\"The total of the numbers you entered is\", total)"
   ]
  },
  {
   "cell_type": "markdown",
   "metadata": {
    "slideshow": {
     "slide_type": "subslide"
    }
   },
   "source": [
    "## Nested Loops\n",
    "* it is possible–and quite common–to have a loop inside a loop\n",
    "* in these cases, the inner loop(s) must complete before the outer loop continues"
   ]
  },
  {
   "cell_type": "code",
   "execution_count": null,
   "metadata": {},
   "outputs": [],
   "source": [
    "for first in range(1, 11):\n",
    "    # for each iteration of the outer loop, the inner loop\n",
    "    # will run to completion\n",
    "    for second in range(1, 11):\n",
    "        #print(first * second, end=' ')\n",
    "        #print('%3d' % (first * second), end=' ') # Python 2-style\n",
    "        print('{:4d}'.format(first * second), end=' ')\n",
    "\n",
    "    print()"
   ]
  },
  {
   "cell_type": "markdown",
   "metadata": {},
   "source": [
    "## Lab: Finding Prime Numbers\n",
    "* write a program to print out the prime numbers between 10 and 30\n",
    "* a number is prime if it's only divisible by 1 and itself\n",
    "* algorithm\n",
    "  * for each number 10 to 30\n",
    "    * try to divide in all of the numbers up to (but not including) the current number\n",
    "    * if any lower number divides in evenly, the number is not prime\n",
    "    * if NONE of the lower numbers divide in evenly, the number IS prime\n",
    "* later, if there's time, we'll look at another way to find prime numbers that was discovered by Eratosthenes"
   ]
  },
  {
   "cell_type": "code",
   "execution_count": 1,
   "metadata": {},
   "outputs": [
    {
     "name": "stdout",
     "output_type": "stream",
     "text": [
      "prime numbers between 10 and 30: 11,13,17,19,23,29\n",
      "number of prime numbers between 10 and 30: 6\n"
     ]
    }
   ],
   "source": [
    "prime_num_start, prime_num_end = 10,30\n",
    "num_of_primes = 0\n",
    "result = ''\n",
    "\n",
    "#if prime_num_start == 1:\n",
    "#    prime_num_start = 2\n",
    "for n in range (prime_num_start,prime_num_end+1):\n",
    "    counter = 0\n",
    "    for j in range (2,n):\n",
    "        if n % j != 0:\n",
    "            counter = counter + 1\n",
    "    if counter == (n - 2):\n",
    "        result = result + str(n) + \",\"\n",
    "        num_of_primes = num_of_primes + 1\n",
    "\n",
    "result = result[0:(len(result)-1)]\n",
    "print (f\"prime numbers between {prime_num_start} and {prime_num_end}: {result}\\nnumber of prime numbers between {prime_num_start} and {prime_num_end}: {num_of_primes}\")"
   ]
  },
  {
   "cell_type": "markdown",
   "metadata": {
    "slideshow": {
     "slide_type": "slide"
    }
   },
   "source": [
    "# Complex Datatypes in Python"
   ]
  },
  {
   "cell_type": "markdown",
   "metadata": {
    "slideshow": {
     "slide_type": "subslide"
    }
   },
   "source": [
    "## Lists\n",
    "* a list is an ordered set of values\n",
    "* the items which make up a list are called its _elements_\n",
    "* lists are similar to strings, which are _ordered sets of characters_\n",
    "  * except that the elements of a list can have any type\n",
    "* lists and strings—and other things that behave like ordered sets—are called sequences"
   ]
  },
  {
   "cell_type": "code",
   "execution_count": 28,
   "metadata": {},
   "outputs": [
    {
     "name": "stdout",
     "output_type": "stream",
     "text": [
      "['banana', 'apple', 'pear', 'mango', 'cherry', 'blueberry']\n",
      "['Dave', 19, 34.5]\n",
      "[]\n"
     ]
    }
   ],
   "source": [
    "list_of_fruits = ['banana', 'apple', 'pear', 'mango',\n",
    "                  'cherry', 'blueberry']\n",
    "funnylist = ['Dave', 19, 34.5]\n",
    "empty_list = []\n",
    "# sep is an optional argument or parameter to the print() function which dictates\n",
    "# the separator character that should be printed between items\n",
    "print(list_of_fruits, funnylist, empty_list, sep='\\n')"
   ]
  },
  {
   "cell_type": "markdown",
   "metadata": {},
   "source": [
    "* lists may contain duplicate elements\n",
    "* lists are usually homogeneous, but they need not be\n",
    "* other languages have a datatype called an _array_ which is similar to a list, but one main difference is that an array can only contain items of one type–i.e., an array of integers, and array of floats, etc."
   ]
  },
  {
   "cell_type": "markdown",
   "metadata": {
    "slideshow": {
     "slide_type": "subslide"
    }
   },
   "source": [
    "## Lab: Lists\n",
    "* create two lists which are different\n",
    "* compare them for equality\n",
    "* create a third list which has the same elements as one of the other lists\n",
    "* verify that Python says they are the same"
   ]
  },
  {
   "cell_type": "code",
   "execution_count": 25,
   "metadata": {},
   "outputs": [
    {
     "name": "stdout",
     "output_type": "stream",
     "text": [
      "not equal\n",
      "139844473168512 139844473218384 139844474568784\n"
     ]
    },
    {
     "data": {
      "text/plain": [
       "True"
      ]
     },
     "execution_count": 25,
     "metadata": {},
     "output_type": "execute_result"
    }
   ],
   "source": [
    "list1 = ['a', 'b', 'c', 'd', 'e', 'f']\n",
    "list2 = ['aaa', 'b', 'c', 'd', 'e', 'f']\n",
    "\n",
    "if list1 == list2:\n",
    "    print (\"equal\")\n",
    "else:\n",
    "    print (\"not equal\")\n",
    "\n",
    "list3 = ['a', 'b', 'c', 'd', 'e', 'f']\n",
    "list4 = ['b', 'a', 'c', 'd', 'e', 'f']\n",
    "\n",
    "print (id (list1), id (list2), id (list3))\n",
    "list1 == list3"
   ]
  },
  {
   "cell_type": "code",
   "execution_count": null,
   "metadata": {},
   "outputs": [],
   "source": []
  },
  {
   "cell_type": "code",
   "execution_count": null,
   "metadata": {},
   "outputs": [],
   "source": []
  },
  {
   "cell_type": "markdown",
   "metadata": {
    "slideshow": {
     "slide_type": "subslide"
    }
   },
   "source": [
    "## Accessing Elements of a List\n",
    "* the syntax for accessing the elements of a list is the same as the syntax for accessing the characters of a string—the bracket operator–__`[]`__\n",
    "* the expression inside the brackets specifies the index\n",
    "* the indices start at 0, because computer scientists start counting at 0\n",
    "* you can use negative indices to refer to the elements from the end backwards"
   ]
  },
  {
   "cell_type": "code",
   "execution_count": 29,
   "metadata": {},
   "outputs": [
    {
     "name": "stdout",
     "output_type": "stream",
     "text": [
      "banana\n",
      "['Dave', 'not Dave', 34.5]\n",
      "['banana', 'apple', 'pear', 'mango', 'cherry', 'raspberry']\n"
     ]
    }
   ],
   "source": [
    "print(list_of_fruits[0])\n",
    "funnylist[1] = 'not Dave'\n",
    "print(funnylist)\n",
    "list_of_fruits[-1] = 'raspberry'\n",
    "print(list_of_fruits)"
   ]
  },
  {
   "cell_type": "code",
   "execution_count": 30,
   "metadata": {},
   "outputs": [
    {
     "name": "stdout",
     "output_type": "stream",
     "text": [
      "banana\n",
      "['bananas', 'apple', 'pear', 'mango', 'cherry', 'raspberry']\n"
     ]
    }
   ],
   "source": [
    "print(list_of_fruits[0])\n",
    "list_of_fruits[0] = list_of_fruits[0] + 's'\n",
    "print(list_of_fruits)"
   ]
  },
  {
   "cell_type": "markdown",
   "metadata": {
    "slideshow": {
     "slide_type": "subslide"
    }
   },
   "source": [
    "## Iterating Through a List\n",
    "* a list is a _container_, so we can use Python's natural iteration to cycle through the list\n",
    "* syntax\n",
    "\n",
    "<pre><b>\n",
    "    for item in list:\n",
    "        do something with item (e.g., print)\n",
    "</b></pre>"
   ]
  },
  {
   "cell_type": "code",
   "execution_count": 31,
   "metadata": {
    "slideshow": {
     "slide_type": "-"
    }
   },
   "outputs": [
    {
     "name": "stdout",
     "output_type": "stream",
     "text": [
      "bananas\n",
      "apple\n",
      "pear\n",
      "mango\n",
      "cherry\n",
      "raspberry\n"
     ]
    }
   ],
   "source": [
    "for fruit in list_of_fruits:\n",
    "    print(fruit)"
   ]
  },
  {
   "cell_type": "code",
   "execution_count": 32,
   "metadata": {},
   "outputs": [
    {
     "name": "stdout",
     "output_type": "stream",
     "text": [
      "bananas\n",
      "apple\n",
      "pear\n",
      "mango\n",
      "cherry\n",
      "raspberry\n"
     ]
    }
   ],
   "source": [
    "# Other Languages\n",
    "for i in range(len(list_of_fruits)):\n",
    "    fruit = list_of_fruits[i]\n",
    "    print(fruit)"
   ]
  },
  {
   "cell_type": "markdown",
   "metadata": {
    "slideshow": {
     "slide_type": "subslide"
    }
   },
   "source": [
    "## Slicing\n",
    "* Python has a very powerful feature called _slicing_ which allows you to specify a _slice_ (or subset) of a list (or a string as it turns out), rather than just a single element\n",
    "* slice syntax: __`container[start:stop:step]`__\n",
    "  * __`start`__ = the index at which to start\n",
    "  * __`stop`__ = the index at which to stop (+1 or -1 depending on which direction)\n",
    "  * __`step`__ = how many indices to move forward (or backward)\n",
    "  * __`start`__, __`stop`__, and __`step`__ are _optional_!"
   ]
  },
  {
   "cell_type": "code",
   "execution_count": 33,
   "metadata": {},
   "outputs": [
    {
     "data": {
      "text/plain": [
       "'Benjamin Franklin'"
      ]
     },
     "execution_count": 33,
     "metadata": {},
     "output_type": "execute_result"
    }
   ],
   "source": [
    "string = 'Frank Benedict eats jam in the morning'\n",
    "string[6:9] + string[20:23] + string[24:27] + string[:5] + 'lin'"
   ]
  },
  {
   "cell_type": "code",
   "execution_count": 34,
   "metadata": {},
   "outputs": [
    {
     "name": "stdout",
     "output_type": "stream",
     "text": [
      "13th letter of the alphabet is m\n",
      "Every other letter in the 1st half of the alphabet: acegikm\n",
      "Every other letter in the 2nd half of the alphabet: nprtvxz\n",
      "The alphabet backwards is zyxwvutsrqponmlkjihgfedcba\n",
      "The alphabet backwards is fedcba\n"
     ]
    }
   ],
   "source": [
    "alphabet = 'abcdefghijklmnopqrstuvwxyz'\n",
    "print('13th letter of the alphabet is', alphabet[12])\n",
    "print('Every other letter in the 1st half of the alphabet:',\n",
    "      alphabet[:13:2])\n",
    "print('Every other letter in the 2nd half of the alphabet:',\n",
    "      alphabet[13::2])\n",
    "print('The alphabet backwards is', alphabet[::-1])\n",
    "print('The alphabet backwards is', alphabet[5::-1])"
   ]
  },
  {
   "cell_type": "code",
   "execution_count": 35,
   "metadata": {},
   "outputs": [
    {
     "name": "stdout",
     "output_type": "stream",
     "text": [
      "Enter a string: this\n",
      "The last 3 characters of the string are: his\n"
     ]
    }
   ],
   "source": [
    "string = input('Enter a string: ')\n",
    "print('The last 3 characters of the string are:',\n",
    "      string[-3:])"
   ]
  },
  {
   "cell_type": "code",
   "execution_count": 45,
   "metadata": {
    "slideshow": {
     "slide_type": "-"
    }
   },
   "outputs": [
    {
     "name": "stdout",
     "output_type": "stream",
     "text": [
      "['bananas', 'apple', 'pear', 'mango', 'cherry', 'raspberry']\n",
      "['raspberry', 'cherry', 'mango', 'pear', 'apple', 'bananas']\n",
      "['mango', 'cherry', 'raspberry']\n",
      "['bananas', 'apple', 'pear']\n",
      "The middle 3 fruits: ['pear', 'mango', 'cherry']\n",
      "Every other fruit: ['bananas', 'pear', 'cherry']\n"
     ]
    },
    {
     "data": {
      "text/plain": [
       "['pear', 'mango', 'cherry', 'raspberry']"
      ]
     },
     "execution_count": 45,
     "metadata": {},
     "output_type": "execute_result"
    }
   ],
   "source": [
    "# Works the same with lists...\n",
    "print(list_of_fruits)\n",
    "print(list_of_fruits[::-1])\n",
    "print(list_of_fruits[3:])\n",
    "print(list_of_fruits[:3])\n",
    "print('The middle 3 fruits:', \n",
    "      list_of_fruits[2:5])\n",
    "print('Every other fruit:', list_of_fruits[::2])\n",
    "list_of_fruits [444:767] #this does not error out, instead prints empty list though start/stop is out of range\n",
    "list_of_fruits [2:767]  #this does not error out, instead prints frim 3rd element to end of the list\n",
    "#type (list_of_fruits)\n"
   ]
  },
  {
   "cell_type": "markdown",
   "metadata": {
    "slideshow": {
     "slide_type": "subslide"
    }
   },
   "source": [
    "## Lab: Slicing\n",
    "1. print the letters of a string with a '+' between each pair of letters, but do not print a '+' after the final letter, i.e., 'h + e + l + l + o'  \n",
    "  * to do this, I want you to iterate through a _slice_ of the string which does not contain the last character, and then print the last character by itself\n",
    "2. create a list and use slicing to print the second half of the list, followed by the first half of the list\n",
    "  * once you've done this, do it again such that it does not print the middle item\n",
    "\n",
    "<pre><b>\n",
    "          [ 'one', 'two', 'three', 'four' ] => three four one two\n",
    "          [ 1, 2, 3, 4, 5 ] => 4 5 1 2\n",
    "</b></pre>"
   ]
  },
  {
   "cell_type": "code",
   "execution_count": 75,
   "metadata": {},
   "outputs": [
    {
     "name": "stdout",
     "output_type": "stream",
     "text": [
      "enter your text:this\n",
      "t+h+i+s\n",
      "t+h+i+s\n",
      "[6, 7, 8, 9, 10, 1, 2, 3, 4, 5]\n"
     ]
    }
   ],
   "source": [
    "# 1.\n",
    "input_str = input(\"enter your text:\")\n",
    "for i in range(len(input_str)-1):\n",
    "    print (input_str[i]+\"+\", end=\"\")\n",
    "print (input_str[-1])\n",
    "\n",
    "# or you can do this way:\n",
    "for ii in input_str[:-1]:\n",
    "    print (ii, end=\"+\")\n",
    "print (input_str[-1])\n",
    "\n",
    "#2.\n",
    "number_list1 = [ 1, 2, 3, 4,5,6,7,8,9,10 ]\n",
    "if len(number_list1) % 2 == 0:\n",
    "    print (number_list1[int(len (number_list1)/2):] + number_list1[:int(len (number_list1)/2)])\n",
    "else:\n",
    "    print (number_list1[int(len (number_list1)/2)+1:] + number_list1[:int(len (number_list1)/2)])"
   ]
  },
  {
   "cell_type": "code",
   "execution_count": null,
   "metadata": {},
   "outputs": [],
   "source": []
  },
  {
   "cell_type": "markdown",
   "metadata": {
    "slideshow": {
     "slide_type": "subslide"
    }
   },
   "source": [
    "## Adding to a List...\n",
    "* the __`append()`__ function will add an item to the end of the list\n",
    "* the __`insert()`__ function will add an item at a particular offset, moving the remaining item down in the process\n",
    "* the __`extend()`__ function (also invoked via the __`+=`__ operator) will add a list to a list, one element at a time\n",
    "* NOTE: these functions (technically called _methods_) are a part of the list itself, which means that they are called by writing __`listname.append(item)`__, __`listname.insert(index, item)`__, and __`listname.extend(otherlist)`__"
   ]
  },
  {
   "cell_type": "code",
   "execution_count": 76,
   "metadata": {},
   "outputs": [
    {
     "name": "stdout",
     "output_type": "stream",
     "text": [
      "['bananas', 'apple', 'pear', 'mango', 'cherry', 'raspberry']\n"
     ]
    },
    {
     "data": {
      "text/plain": [
       "['bananas', 'apple', 'pear', 'mango', 'cherry', 'raspberry', 'lemon']"
      ]
     },
     "execution_count": 76,
     "metadata": {},
     "output_type": "execute_result"
    }
   ],
   "source": [
    "print(list_of_fruits)\n",
    "list_of_fruits.append('lemon') # NOT append(list_of_fruits, 'lemon')\n",
    "list_of_fruits"
   ]
  },
  {
   "cell_type": "code",
   "execution_count": 77,
   "metadata": {},
   "outputs": [
    {
     "name": "stdout",
     "output_type": "stream",
     "text": [
      "['bananas', 'apple', 'pear', 'mango', 'tomato', 'cherry', 'raspberry', 'lemon']\n"
     ]
    }
   ],
   "source": [
    "list_of_fruits.insert(4, 'tomato')\n",
    "print(list_of_fruits)"
   ]
  },
  {
   "cell_type": "code",
   "execution_count": 79,
   "metadata": {},
   "outputs": [
    {
     "name": "stdout",
     "output_type": "stream",
     "text": [
      "['bananas', 'apple', 'pear', 'mango', 'tomato', 'cherry', 'raspberry', 'lemon', 'lime', 'watermelon', 'lime', 'watermelon']\n"
     ]
    }
   ],
   "source": [
    "more_fruits = ['lime', 'watermelon']\n",
    "list_of_fruits.extend(more_fruits) # list_of_fruits += more_fruits i.e. list_of_fruits = list_of_fruits + more_fruits\n",
    "print(list_of_fruits)"
   ]
  },
  {
   "cell_type": "code",
   "execution_count": 82,
   "metadata": {},
   "outputs": [
    {
     "name": "stdout",
     "output_type": "stream",
     "text": [
      "['JR', 'Spencer', 'Alex', ['Dave', 'Rick']]\n",
      "Rick\n",
      "R\n",
      "['JR', 'Spencer', 'Alex', ['Dave', 'Rick'], 'K', 'a', 'm', 'e', 'r', 'o', 'n']\n"
     ]
    }
   ],
   "source": [
    "list_names = ['JR', 'Spencer', 'Alex']\n",
    "other_instructors = ['Dave', 'Rick']\n",
    "list_names.append(other_instructors)\n",
    "print(list_names)\n",
    "print(list_names[3][1])\n",
    "print(list_names[3][1][0]) # prints the first letter of [3][1]\n",
    "list_names.extend('Kameron')\n",
    "print(list_names)"
   ]
  },
  {
   "cell_type": "markdown",
   "metadata": {
    "slideshow": {
     "slide_type": "subslide"
    }
   },
   "source": [
    "## Lab: Lists\n",
    "* create an empty list\n",
    "* write Python code to repeatedly ask the user for a word until the word is 'quit'\n",
    "* add each word to the list\n",
    "* after the user types 'quit' print every other word (first, third, fifth, etc.)\n",
    "* then print every other word (second, fourth, sixth, etc.)\n"
   ]
  },
  {
   "cell_type": "code",
   "execution_count": 91,
   "metadata": {
    "scrolled": true
   },
   "outputs": [
    {
     "name": "stdout",
     "output_type": "stream",
     "text": [
      "enter your word (enter 'quit' to exit):1\n",
      "enter your word (enter 'quit' to exit):2\n",
      "enter your word (enter 'quit' to exit):3\n",
      "enter your word (enter 'quit' to exit):4\n",
      "enter your word (enter 'quit' to exit):5\n",
      "enter your word (enter 'quit' to exit):6\n",
      "enter your word (enter 'quit' to exit):7\n",
      "enter your word (enter 'quit' to exit):quit\n",
      "['1', '3', '5', '7']\n",
      "['2', '4', '6']\n"
     ]
    }
   ],
   "source": [
    "list1 = []\n",
    "user_input = ''\n",
    "while user_input != 'quit':\n",
    "    user_input = input(\"enter your word (enter 'quit' to exit):\")\n",
    "    list1.append(user_input)\n",
    "print (list1[:-1:2])\n",
    "print (list1[1:-1:2])\n"
   ]
  },
  {
   "cell_type": "markdown",
   "metadata": {
    "slideshow": {
     "slide_type": "subslide"
    }
   },
   "source": [
    "## Creating a List with __`split()`__\n",
    "* the __`split()`__ function splits a string into a list\n",
    "* by default, __`split()`__ will split up a string using a space as the separator\n",
    "* ...but you can specify any separator you want"
   ]
  },
  {
   "cell_type": "code",
   "execution_count": 93,
   "metadata": {},
   "outputs": [
    {
     "name": "stdout",
     "output_type": "stream",
     "text": [
      "Enter a string and I will make a list out of it: this is ny str\n"
     ]
    },
    {
     "data": {
      "text/plain": [
       "['this', 'is', 'ny', 'str']"
      ]
     },
     "execution_count": 93,
     "metadata": {},
     "output_type": "execute_result"
    }
   ],
   "source": [
    "string = input('Enter a string and I will make a list out of it: ')\n",
    "mylist = string.split()\n",
    "mylist"
   ]
  },
  {
   "cell_type": "code",
   "execution_count": 95,
   "metadata": {},
   "outputs": [
    {
     "data": {
      "text/plain": [
       "['eggs', 'milk', 'butter', '', 'cheese']"
      ]
     },
     "execution_count": 95,
     "metadata": {},
     "output_type": "execute_result"
    }
   ],
   "source": [
    "comma_separated = 'eggs, milk, butter, , cheese'\n",
    "shopping_list = comma_separated.split(', ')\n",
    "shopping_list"
   ]
  },
  {
   "cell_type": "markdown",
   "metadata": {
    "slideshow": {
     "slide_type": "subslide"
    }
   },
   "source": [
    "## Combining a List into a String with __`join()`__\n",
    "* __`join()`__ is used to take the elements of a list (or any sequence) and concatenate them into a single string\n",
    "* the syntax looks odd because __`join()`__ is a _string_ function–__not a list function__"
   ]
  },
  {
   "cell_type": "code",
   "execution_count": 96,
   "metadata": {},
   "outputs": [
    {
     "data": {
      "text/plain": [
       "'eggs, milk, butter, , cheese'"
      ]
     },
     "execution_count": 96,
     "metadata": {},
     "output_type": "execute_result"
    }
   ],
   "source": [
    "', '.join(shopping_list)\n",
    "# want to write shopping_list.join(', ')"
   ]
  },
  {
   "cell_type": "code",
   "execution_count": 97,
   "metadata": {},
   "outputs": [
    {
     "name": "stdout",
     "output_type": "stream",
     "text": [
      "['s', 'a', 'l', 'e', 's', 'f', 'o', 'r', 'c', 'e']\n",
      "salesforce\n"
     ]
    }
   ],
   "source": [
    "list_of_letters = list('salesforce')\n",
    "print(list_of_letters)\n",
    "print(''.join(list_of_letters))"
   ]
  },
  {
   "cell_type": "code",
   "execution_count": 101,
   "metadata": {},
   "outputs": [
    {
     "data": {
      "text/plain": [
       "'h+e+l+l+o'"
      ]
     },
     "execution_count": 101,
     "metadata": {},
     "output_type": "execute_result"
    }
   ],
   "source": [
    "'+'.join(list('hello'))"
   ]
  },
  {
   "cell_type": "code",
   "execution_count": 99,
   "metadata": {},
   "outputs": [
    {
     "data": {
      "text/plain": [
       "['H', 'a', 'p', 'p', 'y']"
      ]
     },
     "execution_count": 99,
     "metadata": {},
     "output_type": "execute_result"
    }
   ],
   "source": [
    "import builtins\n",
    "builtins.list('Happy')"
   ]
  },
  {
   "cell_type": "markdown",
   "metadata": {
    "slideshow": {
     "slide_type": "subslide"
    }
   },
   "source": [
    "## Lab: Jumble (Word Scrambling)\n",
    "* write a program which plays the jumble word game, i.e., it will present you with a scrambled word and you have to come up with the correctly spelled word\n",
    "  * you can use the __`random`__ module for this\n",
    "  * __`random.choice(container)`__ will return a random item from the container\n",
    "  * __`random.shuffle(container)`__ will shuffle a container so the items are scrambled\n",
    "  * you can't shuffle a string, so you'll need to put the characters into a list using the __`list()`__ function, then shuffle the list, then put the back into a string using __`join()`__"
   ]
  },
  {
   "cell_type": "code",
   "execution_count": 177,
   "metadata": {},
   "outputs": [
    {
     "name": "stdout",
     "output_type": "stream",
     "text": [
      "euVns\n",
      "enter your guess: Venus\n",
      "you are right!\n"
     ]
    }
   ],
   "source": [
    "import random\n",
    "\n",
    "planets_list = ['Mercury', 'Venus', 'Earth', 'Mars', 'Jupiter', 'Saturn', 'Uranus', 'Neptune', 'Pluto']\n",
    "pick_a_planet = random.choice(planets_list)\n",
    "planet_letters = list(pick_a_planet)\n",
    "random.shuffle(planet_letters) #\"shuffle\" happens in-place, i.e. the list we are shuffling will have shuffled values. Here, we are shuffling planet_letters & the result is stored in the planet_letters itself (no new variable to assign result)\n",
    "print(''.join(planet_letters))\n",
    "while True:\n",
    "    your_guess = input (\"enter your guess: \")\n",
    "    if your_guess == pick_a_planet:\n",
    "        print (\"you are right!\")\n",
    "        break\n",
    "    "
   ]
  },
  {
   "cell_type": "markdown",
   "metadata": {},
   "source": [
    "## Let's make this more fun\n",
    "## A quick peek at File I/O"
   ]
  },
  {
   "cell_type": "code",
   "execution_count": 128,
   "metadata": {},
   "outputs": [
    {
     "name": "stdout",
     "output_type": "stream",
     "text": [
      "208 wordlist.txt\r\n"
     ]
    }
   ],
   "source": [
    "!wc -l wordlist.txt"
   ]
  },
  {
   "cell_type": "code",
   "execution_count": 129,
   "metadata": {},
   "outputs": [
    {
     "name": "stdout",
     "output_type": "stream",
     "text": [
      "<class '_io.TextIOWrapper'>\n",
      "['abandon\\n', 'abundant\\n', 'access\\n', 'accommodate\\n', 'accumulate\\n', 'adapt\\n', 'adhere\\n', 'agony\\n', 'allegiance\\n', 'ambition\\n', 'ample\\n', 'anguish\\n', 'anticipate\\n', 'anxious\\n', 'apparel\\n', 'appeal\\n', 'apprehensive\\n', 'arid\\n', 'arrogant\\n', 'barren\\n', 'beacon\\n', 'beneficial\\n', 'blunder\\n', 'boisterous\\n', 'boycott\\n', 'burden\\n', 'campaign\\n', 'capacity\\n', 'capital\\n', 'chronological\\n', 'civic\\n', 'clarity\\n', 'collaborate\\n', 'collide\\n', 'commend\\n', 'commentary\\n', 'compact\\n', 'composure\\n', 'concise\\n', 'consent\\n', 'consequence\\n', 'conserve\\n', 'conspicuous\\n', 'constant\\n', 'contaminate\\n', 'context\\n', 'continuous\\n', 'controversy\\n', 'convenient\\n', 'cope\\n', 'cordial\\n', 'cultivate\\n', 'cumulative\\n', 'declare\\n', 'deluge\\n', 'dense\\n', 'deplete\\n', 'deposit\\n', 'designate\\n', 'desperate\\n', 'deteriorate\\n', 'dialogue\\n', 'diligent\\n', 'diminish\\n', 'discretion\\n', 'dissent\\n', 'dissolve\\n', 'distinct\\n', 'diversity\\n', 'domestic\\n', 'dominate\\n', 'drastic\\n', 'duration\\n', 'dwell\\n', 'eclipse\\n', 'economy\\n', 'eerie\\n', 'effect\\n', 'efficient\\n', 'elaborate\\n', 'eligible\\n', 'elude\\n', 'encounter\\n', 'equivalent\\n', 'erupt\\n', 'esteem\\n', 'evolve\\n', 'exaggerate\\n', 'excel\\n', 'exclude\\n', 'expanse\\n', 'exploit\\n', 'extinct\\n', 'extract\\n', 'factor\\n', 'former\\n', 'formulates\\n', 'fuse\\n', 'futile\\n', 'generate\\n', 'genre\\n', 'habitat\\n', 'hazardous\\n', 'hoax\\n', 'hostile\\n', 'idiom\\n', 'ignite\\n', 'immense\\n', 'improvises\\n', 'inept\\n', 'inevitable\\n', 'influence\\n', 'ingenious\\n', 'innovation\\n', 'intimidate\\n', 'jovial\\n', 'knack\\n', 'leeway\\n', 'legislation\\n', 'leisure\\n', 'liberate\\n', 'likeness\\n', 'linger\\n', 'literal\\n', 'loathe\\n', 'lure\\n', 'majority\\n', 'makeshift\\n', 'manipulate\\n', 'marvel\\n', 'massive\\n', 'maximum\\n', 'meager\\n', 'mere\\n', 'migration\\n', 'mimic\\n', 'minute\\n', 'monotonous\\n', 'negotiate\\n', 'objective\\n', 'obstacle\\n', 'omniscient\\n', 'onset\\n', 'optimist\\n', 'originate\\n', 'painstaking\\n', 'paraphrase\\n', 'parody\\n', 'persecute\\n', 'plummet\\n', 'possess\\n', 'poverty\\n', 'precise\\n', 'predicament\\n', 'predict\\n', 'prejudice\\n', 'preliminary\\n', 'primitive\\n', 'priority\\n', 'prominent\\n', 'propel\\n', 'prosecute\\n', 'prosper\\n', 'provoke\\n', 'pursue\\n', 'quest\\n', 'recount\\n', 'refuge\\n', 'reinforce\\n', 'reluctant\\n', 'remorse\\n', 'remote\\n', 'resolute\\n', 'restrain\\n', 'retaliate\\n', 'retrieve\\n', 'rigorous\\n', 'rural\\n', 'salvage\\n', 'sanctuary\\n', 'siege\\n', 'significant\\n', 'solar\\n', 'soothe\\n', 'stationary\\n', 'stifle\\n', 'strive\\n', 'subordinate\\n', 'subsequent\\n', 'superior\\n', 'supplement\\n', 'swarm\\n', 'tangible\\n', 'terminate\\n', 'terrain\\n', 'trait\\n', 'transform\\n', 'transport\\n', 'treacherous\\n', 'unanimous\\n', 'unique\\n', 'unruly\\n', 'urban\\n', 'vacate\\n', 'verdict\\n', 'verge\\n', 'vibrant\\n', 'vital\\n']\n"
     ]
    }
   ],
   "source": [
    "words = []\n",
    "file = open('wordlist.txt')\n",
    "print(type(file))  # to see file object\n",
    "words = list(file)\n",
    "#for line in file:\n",
    "#    words.append(line.strip())\n",
    "print(words)\n",
    "file.close()\n",
    "\n",
    "# you can use \"with\" clause to achieve the same as above. And, \"with\" clause closes the file automatically at the end\n",
    "with open('wordlist.txt') as file:\n",
    "    words = list(file)"
   ]
  },
  {
   "cell_type": "markdown",
   "metadata": {
    "slideshow": {
     "slide_type": "subslide"
    }
   },
   "source": [
    "## Removing Items from a List\n",
    "* __`remove()`__ will remove an item by value\n",
    "* __`pop()`__ will remove an item by index (and return the item)\n",
    "* as is the case with the add functions, we call them as __`listname.remove(item)`__ and __`listname.pop(index)`__"
   ]
  },
  {
   "cell_type": "code",
   "execution_count": 130,
   "metadata": {},
   "outputs": [
    {
     "name": "stdout",
     "output_type": "stream",
     "text": [
      "mango\n"
     ]
    },
    {
     "data": {
      "text/plain": [
       "['banana', 'apple', 'lemon', 'pear', 'fig', 'raspberry', 'lemon']"
      ]
     },
     "execution_count": 130,
     "metadata": {},
     "output_type": "execute_result"
    }
   ],
   "source": [
    "list_of_fruits = ['banana', 'apple', 'lemon', 'pear', 'fig',\n",
    "                  'mango','raspberry', 'lemon']\n",
    "print(list_of_fruits.pop(-3))\n",
    "list_of_fruits"
   ]
  },
  {
   "cell_type": "code",
   "execution_count": 131,
   "metadata": {},
   "outputs": [
    {
     "name": "stdout",
     "output_type": "stream",
     "text": [
      "2\n",
      "['banana', 'apple', 'pear', 'fig', 'raspberry']\n"
     ]
    },
    {
     "ename": "ValueError",
     "evalue": "list.remove(x): x not in list",
     "output_type": "error",
     "traceback": [
      "\u001b[0;31m---------------------------------------------------------------------------\u001b[0m",
      "\u001b[0;31mValueError\u001b[0m                                Traceback (most recent call last)",
      "\u001b[0;32m<ipython-input-131-e401a60c0835>\u001b[0m in \u001b[0;36m<module>\u001b[0;34m\u001b[0m\n\u001b[1;32m      5\u001b[0m     \u001b[0mlist_of_fruits\u001b[0m\u001b[0;34m.\u001b[0m\u001b[0mremove\u001b[0m\u001b[0;34m(\u001b[0m\u001b[0;34m'lemon'\u001b[0m\u001b[0;34m)\u001b[0m\u001b[0;34m\u001b[0m\u001b[0;34m\u001b[0m\u001b[0m\n\u001b[1;32m      6\u001b[0m \u001b[0mprint\u001b[0m\u001b[0;34m(\u001b[0m\u001b[0mlist_of_fruits\u001b[0m\u001b[0;34m)\u001b[0m\u001b[0;34m\u001b[0m\u001b[0;34m\u001b[0m\u001b[0m\n\u001b[0;32m----> 7\u001b[0;31m \u001b[0mlist_of_fruits\u001b[0m\u001b[0;34m.\u001b[0m\u001b[0mremove\u001b[0m\u001b[0;34m(\u001b[0m\u001b[0;34m'lemon'\u001b[0m\u001b[0;34m)\u001b[0m\u001b[0;34m\u001b[0m\u001b[0;34m\u001b[0m\u001b[0m\n\u001b[0m",
      "\u001b[0;31mValueError\u001b[0m: list.remove(x): x not in list"
     ]
    }
   ],
   "source": [
    "# Given what we know so far, remove ALL lemons from the list\n",
    "print(list_of_fruits.count('lemon'))\n",
    "\n",
    "while 'lemon' in list_of_fruits:\n",
    "    list_of_fruits.remove('lemon')\n",
    "print(list_of_fruits)\n",
    "list_of_fruits.remove('lemon')"
   ]
  },
  {
   "cell_type": "code",
   "execution_count": 132,
   "metadata": {},
   "outputs": [
    {
     "name": "stdout",
     "output_type": "stream",
     "text": [
      "popping banana\n",
      "['apple', 'pear', 'fig', 'raspberry']\n",
      "popping apple\n",
      "['pear', 'fig', 'raspberry']\n",
      "popping pear\n",
      "['fig', 'raspberry']\n",
      "popping fig\n",
      "['raspberry']\n",
      "popping raspberry\n",
      "[]\n"
     ]
    }
   ],
   "source": [
    "# Take the remaining items and pop each item off until empty\n",
    "while len(list_of_fruits) > 0:\n",
    "    print('popping', list_of_fruits.pop(0))\n",
    "    print(list_of_fruits)"
   ]
  },
  {
   "cell_type": "markdown",
   "metadata": {
    "slideshow": {
     "slide_type": "subslide"
    }
   },
   "source": [
    "## Sorting a List\n",
    "* lists have a __`sort()`__ function\n",
    "* sorting is performed alphabetically or numerically by default\n",
    "* you can choose to sort in reverse (descending) order"
   ]
  },
  {
   "cell_type": "code",
   "execution_count": 133,
   "metadata": {},
   "outputs": [
    {
     "name": "stdout",
     "output_type": "stream",
     "text": [
      "['banana', 'apple', 'lemon', 'pear', 'fig', 'mango', 'lemon']\n",
      "['apple', 'banana', 'fig', 'lemon', 'lemon', 'mango', 'pear']\n",
      "['pear', 'mango', 'lemon', 'lemon', 'fig', 'banana', 'apple']\n"
     ]
    }
   ],
   "source": [
    "list_of_fruits = ['banana', 'apple', 'lemon', 'pear', 'fig', \n",
    "                  'mango', 'lemon']\n",
    "print(list_of_fruits)\n",
    "list_of_fruits.sort()\n",
    "print(list_of_fruits)\n",
    "list_of_fruits.sort(reverse=True)\n",
    "print(list_of_fruits)"
   ]
  },
  {
   "cell_type": "code",
   "execution_count": 134,
   "metadata": {},
   "outputs": [
    {
     "name": "stdout",
     "output_type": "stream",
     "text": [
      "['apple', 'banana', 'fig', 'lemon', 'lemon', 'mango', 'pear']\n",
      "['pear', 'mango', 'lemon', 'lemon', 'fig', 'banana', 'apple']\n"
     ]
    }
   ],
   "source": [
    "sorted_list = sorted(list_of_fruits)\n",
    "print(sorted_list)\n",
    "print(list_of_fruits)"
   ]
  },
  {
   "cell_type": "code",
   "execution_count": 135,
   "metadata": {},
   "outputs": [
    {
     "name": "stdout",
     "output_type": "stream",
     "text": [
      "['fig', 'pear', 'mango', 'lemon', 'lemon', 'apple', 'banana']\n"
     ]
    }
   ],
   "source": [
    "list_of_fruits.sort(key=len)\n",
    "print(list_of_fruits)"
   ]
  },
  {
   "cell_type": "markdown",
   "metadata": {
    "slideshow": {
     "slide_type": "subslide"
    }
   },
   "source": [
    "## Lab: List Management/Sorting\n",
    "* write a program to read in words\n",
    "* if the word begins with a vowel, put it in \"vowel\" list, otherwise put it in the \"consonant\" list\n",
    "* when the user types \"quit\", stop and print out the sorted list of words that begin with vowels, and the sorted list of words that begin with consonants"
   ]
  },
  {
   "cell_type": "code",
   "execution_count": 138,
   "metadata": {},
   "outputs": [
    {
     "data": {
      "text/plain": [
       "False"
      ]
     },
     "execution_count": 138,
     "metadata": {},
     "output_type": "execute_result"
    }
   ],
   "source": [
    "'bananafjldksajflkasjlfk' < 'apple' # > 'jackfruit'"
   ]
  },
  {
   "cell_type": "markdown",
   "metadata": {
    "slideshow": {
     "slide_type": "subslide"
    }
   },
   "source": [
    "## Dictionaries\n",
    "* a Python _dictionary_ is an unordered collection of key-value pairs\n",
    "* instead of using integers as indices, dictionaries use a key, which is often a string\n",
    "* a dictionary maps a key to a value–give it the key as an index, and it will return the value\n",
    "* indeed they are called _maps_ in some languages\n",
    "* key must be immutable types"
   ]
  },
  {
   "cell_type": "code",
   "execution_count": null,
   "metadata": {},
   "outputs": [],
   "source": []
  },
  {
   "cell_type": "code",
   "execution_count": 139,
   "metadata": {},
   "outputs": [
    {
     "data": {
      "text/plain": [
       "(dict, {'tall': 12, 'grande': 16})"
      ]
     },
     "execution_count": 139,
     "metadata": {},
     "output_type": "execute_result"
    }
   ],
   "source": [
    "# creating a dictionary and initializing it\n",
    "cups = { 'tall': 12, 'grande': 16 }\n",
    "type(cups), cups"
   ]
  },
  {
   "cell_type": "code",
   "execution_count": 140,
   "metadata": {},
   "outputs": [
    {
     "name": "stdout",
     "output_type": "stream",
     "text": [
      "A tall cup contains 12 ounces\n"
     ]
    }
   ],
   "source": [
    "# note that you use {} to define dict, and you use [] to call/access the dict\n",
    "print('A tall cup contains', cups['tall'], 'ounces')"
   ]
  },
  {
   "cell_type": "code",
   "execution_count": 141,
   "metadata": {},
   "outputs": [
    {
     "ename": "KeyError",
     "evalue": "0",
     "output_type": "error",
     "traceback": [
      "\u001b[0;31m---------------------------------------------------------------------------\u001b[0m",
      "\u001b[0;31mKeyError\u001b[0m                                  Traceback (most recent call last)",
      "\u001b[0;32m<ipython-input-141-960072945a43>\u001b[0m in \u001b[0;36m<module>\u001b[0;34m\u001b[0m\n\u001b[0;32m----> 1\u001b[0;31m \u001b[0mcups\u001b[0m\u001b[0;34m[\u001b[0m\u001b[0;36m0\u001b[0m\u001b[0;34m]\u001b[0m\u001b[0;34m\u001b[0m\u001b[0;34m\u001b[0m\u001b[0m\n\u001b[0m",
      "\u001b[0;31mKeyError\u001b[0m: 0"
     ]
    }
   ],
   "source": [
    "cups[0] # you cannot access dict like list (i.e. using index value)"
   ]
  },
  {
   "cell_type": "code",
   "execution_count": 142,
   "metadata": {},
   "outputs": [
    {
     "name": "stdout",
     "output_type": "stream",
     "text": [
      "16\n"
     ]
    }
   ],
   "source": [
    "if 'grande' in cups: # only looks at keys\n",
    "    print(cups['grande'])"
   ]
  },
  {
   "cell_type": "code",
   "execution_count": 143,
   "metadata": {},
   "outputs": [
    {
     "name": "stdout",
     "output_type": "stream",
     "text": [
      "tall 12\n",
      "grande 16\n"
     ]
    }
   ],
   "source": [
    "for thing in cups:\n",
    "    print(thing, cups[thing])"
   ]
  },
  {
   "cell_type": "code",
   "execution_count": 144,
   "metadata": {},
   "outputs": [
    {
     "name": "stdout",
     "output_type": "stream",
     "text": [
      "12\n",
      "16\n"
     ]
    }
   ],
   "source": [
    "for v in cups.values():\n",
    "    print(v)"
   ]
  },
  {
   "cell_type": "code",
   "execution_count": 150,
   "metadata": {},
   "outputs": [
    {
     "name": "stdout",
     "output_type": "stream",
     "text": [
      "tall -> 12\n",
      "grande -> 16\n",
      "dict_items([('tall', 12), ('grande', 16)])\n"
     ]
    }
   ],
   "source": [
    "for key, value in cups.items():\n",
    "    print(key, '->', value)\n",
    "    \n",
    "print(cups.items())"
   ]
  },
  {
   "cell_type": "code",
   "execution_count": null,
   "metadata": {
    "slideshow": {
     "slide_type": "subslide"
    }
   },
   "outputs": [],
   "source": [
    "# How about a dictionary to translate English into Spanish\n",
    "english_to_spanish = { \n",
    "    'hello': 'hola', \n",
    "    'one': 'uno', \n",
    "    'please': 'por favor', \n",
    "    'coffee': 'café' \n",
    "}\n",
    "for word in \"hello one coffee please\".split():\n",
    "    print(english_to_spanish[word], end=' ')\n",
    "print()"
   ]
  },
  {
   "cell_type": "code",
   "execution_count": null,
   "metadata": {
    "slideshow": {
     "slide_type": "subslide"
    }
   },
   "outputs": [],
   "source": [
    "english_to_spanish['corn'] = 'maize'\n",
    "print(english_to_spanish)\n",
    "english_to_spanish['table'] = 'mesa'\n",
    "print(english_to_spanish)\n",
    "english_to_spanish['flour'] = 'arina'\n",
    "print(english_to_spanish)"
   ]
  },
  {
   "cell_type": "markdown",
   "metadata": {
    "slideshow": {
     "slide_type": "subslide"
    }
   },
   "source": [
    "## Lab: Roman Numerals\n",
    "* write a program that converts Roman numerals to Arabic numerals\n",
    "* use a dictionary where the keys are Roman numerals and the values are Arabic numerals\n",
    "\n",
    "* __`M = 1000, D = 500, C = 100, L = 50, X = 10, V = 5, I = 1`__\n",
    "* for example, __`MDCLXVI`__ would be __`1000 + 500 + 100 + 50 + 10 + 5 + 1 = 1666`__\n",
    "* once you get that working, think about this additional wrinkle:\n",
    "  * if a smaller value precedes a larger value, then the correct thing to do is to subtract the smaller value from the larger value\n",
    "  * e.g., __`IX = 10 - 1 = 9`__\n",
    "  * e.g., __`MCM = 1000 + (1000 - 100) = 1900`__"
   ]
  },
  {
   "cell_type": "code",
   "execution_count": 74,
   "metadata": {},
   "outputs": [
    {
     "name": "stdout",
     "output_type": "stream",
     "text": [
      "enter your Roman numerals to be converted to Arabic: IX\n",
      "2 length of roman\n",
      "0\n",
      "0 1\n",
      "0 3\n",
      "{0: 9}\n"
     ]
    }
   ],
   "source": [
    "#try 1 -- not working right\n",
    "num_dict = {'M' : 1000, 'D' : 500, 'C' : 100, 'L' : 50, 'X' : 10, 'V' : 5, 'I' : 1}\n",
    "arabic = 0\n",
    "roman = input(\"enter your Roman numerals to be converted to Arabic: \")\n",
    "length_of_roman = len(roman)\n",
    "converted_to_numbers = {}\n",
    "\n",
    "print(length_of_roman, \"length of roman\")\n",
    "#print (num_dict[roman [0]], \"[0]\")\n",
    "if length_of_roman == 1:\n",
    "    arabic = num_dict[roman]\n",
    "    print (arabic)\n",
    "if length_of_roman > 1:\n",
    "#    for i in range(length_of_roman-1):\n",
    "    i = 0\n",
    "    while i < (length_of_roman-1):\n",
    "        print (i)\n",
    "        if num_dict[roman [-1-i]] > num_dict[roman [-2-i]]:\n",
    "            #arabic = arabic + (num_dict[roman [-1-i]] - num_dict[roman [-2-i]])\n",
    "            converted_to_numbers [i] = (num_dict[roman [-1-i]] - num_dict[roman [-2-i]])\n",
    "            i = i + 2\n",
    "            print(arabic, \"1\")\n",
    "        elif num_dict[roman [-1-i]] <= num_dict[roman [-2-i]]:\n",
    "            #arabic = arabic + (num_dict[roman [-2-i]])\n",
    "            converted_to_numbers [i] = (num_dict[roman [-1-i]])\n",
    "            i = i + 1\n",
    "            print(arabic, \"2\")\n",
    "    print (arabic, \"3\")\n",
    "    print (converted_to_numbers)\n",
    "#if (num_dict[roman [-1]] < num_dict[roman [-2]]):\n",
    "#    for ltr in roman:\n",
    "#        arabic = arabic + num_dict[ltr]\n",
    "# DXLIV = 544\n",
    "# MDCLXVI = 1666\n",
    "# MCM = 1900\n",
    "# IX = 9"
   ]
  },
  {
   "cell_type": "code",
   "execution_count": 102,
   "metadata": {},
   "outputs": [
    {
     "name": "stdout",
     "output_type": "stream",
     "text": [
      "enter your Roman numerals to be converted to Arabic: IX\n",
      "2 length of roman\n",
      "i value: 0\n",
      "9 1\n",
      "9 3\n",
      "{0: 9}\n"
     ]
    }
   ],
   "source": [
    "#try 2 -- seems to be working\n",
    "num_dict = {'M' : 1000, 'D' : 500, 'C' : 100, 'L' : 50, 'X' : 10, 'V' : 5, 'I' : 1}\n",
    "arabic = 0\n",
    "roman = input(\"enter your Roman numerals to be converted to Arabic: \")\n",
    "length_of_roman = len(roman)\n",
    "converted_to_numbers = {}\n",
    "\n",
    "print(length_of_roman, \"length of roman\")\n",
    "#print (num_dict[roman [0]], \"[0]\")\n",
    "if length_of_roman == 1:\n",
    "    arabic = num_dict[roman]\n",
    "    print (arabic)\n",
    "if length_of_roman > 1:\n",
    "#    for i in range(length_of_roman-1):\n",
    "    i = 0\n",
    "    while i <= length_of_roman-1:\n",
    "        print (\"i value:\", i)\n",
    "#        if ((2+i) < length_of_roman) and (num_dict[roman [-1-i]] > num_dict[roman [-2-i]]):\n",
    "        if ((2+i) <= length_of_roman) and (num_dict[roman [-1-i]] > num_dict[roman [-2-i]]):\n",
    "            arabic = arabic + (num_dict[roman [-1-i]] - num_dict[roman [-2-i]])\n",
    "            converted_to_numbers [i] = (num_dict[roman [-1-i]] - num_dict[roman [-2-i]])\n",
    "            i = i + 2\n",
    "            print(arabic, \"1\")\n",
    "#        elif num_dict[roman [-1-i]] <= num_dict[roman [-2-i]]:\n",
    "        else:\n",
    "            arabic = arabic + (num_dict[roman [-1-i]])\n",
    "            converted_to_numbers [i] = (num_dict[roman [-1-i]])\n",
    "            i = i + 1\n",
    "            print(arabic, \"2\")\n",
    "    print (arabic, \"3\")\n",
    "    print (converted_to_numbers)\n",
    "#if (num_dict[roman [-1]] < num_dict[roman [-2]]):\n",
    "#    for ltr in roman:\n",
    "#        arabic = arabic + num_dict[ltr]\n",
    "# DXLIV = 544\n",
    "# MDCLXVI = 1666\n",
    "# MCM = 1900\n",
    "# IX = 9"
   ]
  },
  {
   "cell_type": "code",
   "execution_count": 147,
   "metadata": {},
   "outputs": [
    {
     "name": "stdout",
     "output_type": "stream",
     "text": [
      "enter your Roman numerals to be converted to Arabic: V\n",
      "arabic number: 5\n"
     ]
    }
   ],
   "source": [
    "#same as try 2 but cleaned up comments and extra prints\n",
    "num_dict = {'M' : 1000, 'D' : 500, 'C' : 100, 'L' : 50, 'X' : 10, 'V' : 5, 'I' : 1}\n",
    "arabic = 0\n",
    "roman = input(\"enter your Roman numerals to be converted to Arabic: \")\n",
    "length_of_roman = len(roman)\n",
    "\n",
    "if length_of_roman == 1:\n",
    "    arabic = num_dict[roman]\n",
    "    print (\"arabic number:\", arabic)\n",
    "\n",
    "if length_of_roman > 1:\n",
    "    i = 0\n",
    "    while i <= length_of_roman-1:\n",
    "        if ((2+i) <= length_of_roman) and (num_dict[roman [-1-i]] > num_dict[roman [-2-i]]):\n",
    "            arabic = arabic + (num_dict[roman [-1-i]] - num_dict[roman [-2-i]])\n",
    "            i = i + 2\n",
    "        else:\n",
    "            arabic = arabic + (num_dict[roman [-1-i]])\n",
    "            i = i + 1\n",
    "    print (\"arabic number:\", arabic)\n",
    "\n",
    "# DXLIV = 544 --> D+(XL)+(IV)\n",
    "# MDCLXVI = 1666 --> M+D+C+L+X+V+I\n",
    "# MCM = 1900\n",
    "# IX = 9\n",
    "#  1377 = MCCCLXXVII\n",
    "# XXIX = 29\n",
    "# CCXCIX = 299\n",
    "#  1299 = MCCXCIX"
   ]
  },
  {
   "cell_type": "code",
   "execution_count": null,
   "metadata": {},
   "outputs": [],
   "source": [
    "# to post the solution in Teams channel\n",
    "# declare refrence dictionary, variables and get input from user\n",
    "num_dict = {'M' : 1000, 'D' : 500, 'C' : 100, 'L' : 50, 'X' : 10, 'V' : 5, 'I' : 1}\n",
    "arabic = 0\n",
    "roman = input(\"enter your Roman numerals to be converted to Arabic: \")\n",
    "length_of_roman = len(roman)\n",
    "\n",
    "if length_of_roman == 1:\n",
    "    arabic = num_dict[roman]\n",
    "    print (\"arabic number:\", arabic)\n",
    "\n",
    "# when roman numarals has more than one letter read it from right to left\n",
    "if length_of_roman > 1:\n",
    "    i = 0P\n",
    "    while i <= length_of_roman-1:\n",
    "        if ((2+i) <= length_of_roman) and (num_dict[roman [-1-i]] > num_dict[roman [-2-i]]):\n",
    "            arabic = arabic + (num_dict[roman [-1-i]] - num_dict[roman [-2-i]])\n",
    "            i = i + 2\n",
    "        else:\n",
    "            arabic = arabic + (num_dict[roman [-1-i]])\n",
    "            i = i + 1\n",
    "    print (\"arabic number:\", arabic)\n",
    "\n",
    "# DXLIV = 544 --> D+(XL)+(IV)\n",
    "# MDCLXVI = 1666 --> M+D+C+L+X+V+I\n",
    "# MCM = 1900\n",
    "# IX = 9\n",
    "#  1377 = MCCCLXXVII\n",
    "# XXIX = 29\n",
    "# CCXCIX = 299\n",
    "#  1299 = MCCXCIX"
   ]
  },
  {
   "cell_type": "code",
   "execution_count": 149,
   "metadata": {},
   "outputs": [],
   "source": [
    "test_dict = {1:'I', 2:'II', 3:'III', 4:'IV', 5:'V', 6:'VI', 7:'VII', 8:'VIII', 9:'IX', 10:'X', 11:'XI', 12:'XII', 13:'XIII', 14:'XIV', 15:'XV', 16:'XVI', 17:'XVII', 18:'XVIII', 19:'XIX', 20:'XX', 21:'XXI', 22:'XXII', 23:'XXIII', 24:'XXIV', 25:'XXV', 26:'XXVI', 27:'XXVII', 28:'XXVIII', 29:'XXIX', 30:'XXX', 31:'XXXI', 32:'XXXII', 33:'XXXIII', 34:'XXXIV', 35:'XXXV', 36:'XXXVI', 37:'XXXVII', 38:'XXXVIII', 39:'XXXIX', 40:'XL', 41:'XLI', 42:'XLII', 43:'XLIII', 44:'XLIV', 45:'XLV', 46:'XLVI', 47:'XLVII', 48:'XLVIII', 49:'XLIX', 50:'L', 51:'LI', 52:'LII', 53:'LIII', 54:'LIV', 55:'LV', 56:'LVI', 57:'LVII', 58:'LVIII', 59:'LIX', 60:'LX', 61:'LXI', 62:'LXII', 63:'LXIII', 64:'LXIV', 65:'LXV', 66:'LXVI', 67:'LXVII', 68:'LXVIII', 69:'LXIX', 70:'LXX', 71:'LXXI', 72:'LXXII', 73:'LXXIII', 74:'LXXIV', 75:'LXXV', 76:'LXXVI', 77:'LXXVII', 78:'LXXVIII', 79:'LXXIX', 80:'LXXX', 81:'LXXXI', 82:'LXXXII', 83:'LXXXIII', 84:'LXXXIV', 85:'LXXXV', 86:'LXXXVI', 87:'LXXXVII', 88:'LXXXVIII', 89:'LXXXIX', 90:'XC', 91:'XCI', 92:'XCII', 93:'XCIII', 94:'XCIV', 95:'XCV', 96:'XCVI', 97:'XCVII', 98:'XCVIII', 99:'XCIX', 100:'C', 101:'CI', 102:'CII', 103:'CIII', 104:'CIV', 105:'CV', 106:'CVI', 107:'CVII', 108:'CVIII', 109:'CIX', 110:'CX', 111:'CXI', 112:'CXII', 113:'CXIII', 114:'CXIV', 115:'CXV', 116:'CXVI', 117:'CXVII', 118:'CXVIII', 119:'CXIX', 120:'CXX', 121:'CXXI', 122:'CXXII', 123:'CXXIII', 124:'CXXIV', 125:'CXXV', 126:'CXXVI', 127:'CXXVII', 128:'CXXVIII', 129:'CXXIX', 130:'CXXX', 131:'CXXXI', 132:'CXXXII', 133:'CXXXIII', 134:'CXXXIV', 135:'CXXXV', 136:'CXXXVI', 137:'CXXXVII', 138:'CXXXVIII', 139:'CXXXIX', 140:'CXL', 141:'CXLI', 142:'CXLII', 143:'CXLIII', 144:'CXLIV', 145:'CXLV', 146:'CXLVI', 147:'CXLVII', 148:'CXLVIII', 149:'CXLIX', 150:'CL', 151:'CLI', 152:'CLII', 153:'CLIII', 154:'CLIV', 155:'CLV', 156:'CLVI', 157:'CLVII', 158:'CLVIII', 159:'CLIX', 160:'CLX', 161:'CLXI', 162:'CLXII', 163:'CLXIII', 164:'CLXIV', 165:'CLXV', 166:'CLXVI', 167:'CLXVII', 168:'CLXVIII', 169:'CLXIX', 170:'CLXX', 171:'CLXXI', 172:'CLXXII', 173:'CLXXIII', 174:'CLXXIV', 175:'CLXXV', 176:'CLXXVI', 177:'CLXXVII', 178:'CLXXVIII', 179:'CLXXIX', 180:'CLXXX', 181:'CLXXXI', 182:'CLXXXII', 183:'CLXXXIII', 184:'CLXXXIV', 185:'CLXXXV', 186:'CLXXXVI', 187:'CLXXXVII', 188:'CLXXXVIII', 189:'CLXXXIX', 190:'CXC', 191:'CXCI', 192:'CXCII', 193:'CXCIII', 194:'CXCIV', 195:'CXCV', 196:'CXCVI', 197:'CXCVII', 198:'CXCVIII', 199:'CXCIX', 200:'CC', 201:'CCI', 202:'CCII', 203:'CCIII', 204:'CCIV', 205:'CCV', 206:'CCVI', 207:'CCVII', 208:'CCVIII', 209:'CCIX', 210:'CCX', 211:'CCXI', 212:'CCXII', 213:'CCXIII', 214:'CCXIV', 215:'CCXV', 216:'CCXVI', 217:'CCXVII', 218:'CCXVIII', 219:'CCXIX', 220:'CCXX', 221:'CCXXI', 222:'CCXXII', 223:'CCXXIII', 224:'CCXXIV', 225:'CCXXV', 226:'CCXXVI', 227:'CCXXVII', 228:'CCXXVIII', 229:'CCXXIX', 230:'CCXXX', 231:'CCXXXI', 232:'CCXXXII', 233:'CCXXXIII', 234:'CCXXXIV', 235:'CCXXXV', 236:'CCXXXVI', 237:'CCXXXVII', 238:'CCXXXVIII', 239:'CCXXXIX', 240:'CCXL', 241:'CCXLI', 242:'CCXLII', 243:'CCXLIII', 244:'CCXLIV', 245:'CCXLV', 246:'CCXLVI', 247:'CCXLVII', 248:'CCXLVIII', 249:'CCXLIX', 250:'CCL', 251:'CCLI', 252:'CCLII', 253:'CCLIII', 254:'CCLIV', 255:'CCLV', 256:'CCLVI', 257:'CCLVII', 258:'CCLVIII', 259:'CCLIX', 260:'CCLX', 261:'CCLXI', 262:'CCLXII', 263:'CCLXIII', 264:'CCLXIV', 265:'CCLXV', 266:'CCLXVI', 267:'CCLXVII', 268:'CCLXVIII', 269:'CCLXIX', 270:'CCLXX', 271:'CCLXXI', 272:'CCLXXII', 273:'CCLXXIII', 274:'CCLXXIV', 275:'CCLXXV', 276:'CCLXXVI', 277:'CCLXXVII', 278:'CCLXXVIII', 279:'CCLXXIX', 280:'CCLXXX', 281:'CCLXXXI', 282:'CCLXXXII', 283:'CCLXXXIII', 284:'CCLXXXIV', 285:'CCLXXXV', 286:'CCLXXXVI', 287:'CCLXXXVII', 288:'CCLXXXVIII', 289:'CCLXXXIX', 290:'CCXC', 291:'CCXCI', 292:'CCXCII', 293:'CCXCIII', 294:'CCXCIV', 295:'CCXCV', 296:'CCXCVI', 297:'CCXCVII', 298:'CCXCVIII', 299:'CCXCIX', 300:'CCC', 301:'CCCI', 302:'CCCII', 303:'CCCIII', 304:'CCCIV', 305:'CCCV', 306:'CCCVI', 307:'CCCVII', 308:'CCCVIII', 309:'CCCIX', 310:'CCCX', 311:'CCCXI', 312:'CCCXII', 313:'CCCXIII', 314:'CCCXIV', 315:'CCCXV', 316:'CCCXVI', 317:'CCCXVII', 318:'CCCXVIII', 319:'CCCXIX', 320:'CCCXX', 321:'CCCXXI', 322:'CCCXXII', 323:'CCCXXIII', 324:'CCCXXIV', 325:'CCCXXV', 326:'CCCXXVI', 327:'CCCXXVII', 328:'CCCXXVIII', 329:'CCCXXIX', 330:'CCCXXX', 331:'CCCXXXI', 332:'CCCXXXII', 333:'CCCXXXIII', 334:'CCCXXXIV', 335:'CCCXXXV', 336:'CCCXXXVI', 337:'CCCXXXVII', 338:'CCCXXXVIII', 339:'CCCXXXIX', 340:'CCCXL', 341:'CCCXLI', 342:'CCCXLII', 343:'CCCXLIII', 344:'CCCXLIV', 345:'CCCXLV', 346:'CCCXLVI', 347:'CCCXLVII', 348:'CCCXLVIII', 349:'CCCXLIX', 350:'CCCL', 351:'CCCLI', 352:'CCCLII', 353:'CCCLIII', 354:'CCCLIV', 355:'CCCLV', 356:'CCCLVI', 357:'CCCLVII', 358:'CCCLVIII', 359:'CCCLIX', 360:'CCCLX', 361:'CCCLXI', 362:'CCCLXII', 363:'CCCLXIII', 364:'CCCLXIV', 365:'CCCLXV', 366:'CCCLXVI', 367:'CCCLXVII', 368:'CCCLXVIII', 369:'CCCLXIX', 370:'CCCLXX', 371:'CCCLXXI', 372:'CCCLXXII', 373:'CCCLXXIII', 374:'CCCLXXIV', 375:'CCCLXXV', 376:'CCCLXXVI', 377:'CCCLXXVII', 378:'CCCLXXVIII', 379:'CCCLXXIX', 380:'CCCLXXX', 381:'CCCLXXXI', 382:'CCCLXXXII', 383:'CCCLXXXIII', 384:'CCCLXXXIV', 385:'CCCLXXXV', 386:'CCCLXXXVI', 387:'CCCLXXXVII', 388:'CCCLXXXVIII', 389:'CCCLXXXIX', 390:'CCCXC', 391:'CCCXCI', 392:'CCCXCII', 393:'CCCXCIII', 394:'CCCXCIV', 395:'CCCXCV', 396:'CCCXCVI', 397:'CCCXCVII', 398:'CCCXCVIII', 399:'CCCXCIX', 400:'CD', 401:'CDI', 402:'CDII', 403:'CDIII', 404:'CDIV', 405:'CDV', 406:'CDVI', 407:'CDVII', 408:'CDVIII', 409:'CDIX', 410:'CDX', 411:'CDXI', 412:'CDXII', 413:'CDXIII', 414:'CDXIV', 415:'CDXV', 416:'CDXVI', 417:'CDXVII', 418:'CDXVIII', 419:'CDXIX', 420:'CDXX', 421:'CDXXI', 422:'CDXXII', 423:'CDXXIII', 424:'CDXXIV', 425:'CDXXV', 426:'CDXXVI', 427:'CDXXVII', 428:'CDXXVIII', 429:'CDXXIX', 430:'CDXXX', 431:'CDXXXI', 432:'CDXXXII', 433:'CDXXXIII', 434:'CDXXXIV', 435:'CDXXXV', 436:'CDXXXVI', 437:'CDXXXVII', 438:'CDXXXVIII', 439:'CDXXXIX', 440:'CDXL', 441:'CDXLI', 442:'CDXLII', 443:'CDXLIII', 444:'CDXLIV', 445:'CDXLV', 446:'CDXLVI', 447:'CDXLVII', 448:'CDXLVIII', 449:'CDXLIX', 450:'CDL', 451:'CDLI', 452:'CDLII', 453:'CDLIII', 454:'CDLIV', 455:'CDLV', 456:'CDLVI', 457:'CDLVII', 458:'CDLVIII', 459:'CDLIX', 460:'CDLX', 461:'CDLXI', 462:'CDLXII', 463:'CDLXIII', 464:'CDLXIV', 465:'CDLXV', 466:'CDLXVI', 467:'CDLXVII', 468:'CDLXVIII', 469:'CDLXIX', 470:'CDLXX', 471:'CDLXXI', 472:'CDLXXII', 473:'CDLXXIII', 474:'CDLXXIV', 475:'CDLXXV', 476:'CDLXXVI', 477:'CDLXXVII', 478:'CDLXXVIII', 479:'CDLXXIX', 480:'CDLXXX', 481:'CDLXXXI', 482:'CDLXXXII', 483:'CDLXXXIII', 484:'CDLXXXIV', 485:'CDLXXXV', 486:'CDLXXXVI', 487:'CDLXXXVII', 488:'CDLXXXVIII', 489:'CDLXXXIX', 490:'CDXC', 491:'CDXCI', 492:'CDXCII', 493:'CDXCIII', 494:'CDXCIV', 495:'CDXCV', 496:'CDXCVI', 497:'CDXCVII', 498:'CDXCVIII', 499:'CDXCIX', 500:'D', 501:'DI', 502:'DII', 503:'DIII', 504:'DIV', 505:'DV', 506:'DVI', 507:'DVII', 508:'DVIII', 509:'DIX', 510:'DX', 511:'DXI', 512:'DXII', 513:'DXIII', 514:'DXIV', 515:'DXV', 516:'DXVI', 517:'DXVII', 518:'DXVIII', 519:'DXIX', 520:'DXX', 521:'DXXI', 522:'DXXII', 523:'DXXIII', 524:'DXXIV', 525:'DXXV', 526:'DXXVI', 527:'DXXVII', 528:'DXXVIII', 529:'DXXIX', 530:'DXXX', 531:'DXXXI', 532:'DXXXII', 533:'DXXXIII', 534:'DXXXIV', 535:'DXXXV', 536:'DXXXVI', 537:'DXXXVII', 538:'DXXXVIII', 539:'DXXXIX', 540:'DXL', 541:'DXLI', 542:'DXLII', 543:'DXLIII', 544:'DXLIV', 545:'DXLV', 546:'DXLVI', 547:'DXLVII', 548:'DXLVIII', 549:'DXLIX', 550:'DL', 551:'DLI', 552:'DLII', 553:'DLIII', 554:'DLIV', 555:'DLV', 556:'DLVI', 557:'DLVII', 558:'DLVIII', 559:'DLIX', 560:'DLX', 561:'DLXI', 562:'DLXII', 563:'DLXIII', 564:'DLXIV', 565:'DLXV', 566:'DLXVI', 567:'DLXVII', 568:'DLXVIII', 569:'DLXIX', 570:'DLXX', 571:'DLXXI', 572:'DLXXII', 573:'DLXXIII', 574:'DLXXIV', 575:'DLXXV', 576:'DLXXVI', 577:'DLXXVII', 578:'DLXXVIII', 579:'DLXXIX', 580:'DLXXX', 581:'DLXXXI', 582:'DLXXXII', 583:'DLXXXIII', 584:'DLXXXIV', 585:'DLXXXV', 586:'DLXXXVI', 587:'DLXXXVII', 588:'DLXXXVIII', 589:'DLXXXIX', 590:'DXC', 591:'DXCI', 592:'DXCII', 593:'DXCIII', 594:'DXCIV', 595:'DXCV', 596:'DXCVI', 597:'DXCVII', 598:'DXCVIII', 599:'DXCIX', 600:'DC', 601:'DCI', 602:'DCII', 603:'DCIII', 604:'DCIV', 605:'DCV', 606:'DCVI', 607:'DCVII', 608:'DCVIII', 609:'DCIX', 610:'DCX', 611:'DCXI', 612:'DCXII', 613:'DCXIII', 614:'DCXIV', 615:'DCXV', 616:'DCXVI', 617:'DCXVII', 618:'DCXVIII', 619:'DCXIX', 620:'DCXX', 621:'DCXXI', 622:'DCXXII', 623:'DCXXIII', 624:'DCXXIV', 625:'DCXXV', 626:'DCXXVI', 627:'DCXXVII', 628:'DCXXVIII', 629:'DCXXIX', 630:'DCXXX', 631:'DCXXXI', 632:'DCXXXII', 633:'DCXXXIII', 634:'DCXXXIV', 635:'DCXXXV', 636:'DCXXXVI', 637:'DCXXXVII', 638:'DCXXXVIII', 639:'DCXXXIX', 640:'DCXL', 641:'DCXLI', 642:'DCXLII', 643:'DCXLIII', 644:'DCXLIV', 645:'DCXLV', 646:'DCXLVI', 647:'DCXLVII', 648:'DCXLVIII', 649:'DCXLIX', 650:'DCL', 651:'DCLI', 652:'DCLII', 653:'DCLIII', 654:'DCLIV', 655:'DCLV', 656:'DCLVI', 657:'DCLVII', 658:'DCLVIII', 659:'DCLIX', 660:'DCLX', 661:'DCLXI', 662:'DCLXII', 663:'DCLXIII', 664:'DCLXIV', 665:'DCLXV', 666:'DCLXVI', 667:'DCLXVII', 668:'DCLXVIII', 669:'DCLXIX', 670:'DCLXX', 671:'DCLXXI', 672:'DCLXXII', 673:'DCLXXIII', 674:'DCLXXIV', 675:'DCLXXV', 676:'DCLXXVI', 677:'DCLXXVII', 678:'DCLXXVIII', 679:'DCLXXIX', 680:'DCLXXX', 681:'DCLXXXI', 682:'DCLXXXII', 683:'DCLXXXIII', 684:'DCLXXXIV', 685:'DCLXXXV', 686:'DCLXXXVI', 687:'DCLXXXVII', 688:'DCLXXXVIII', 689:'DCLXXXIX', 690:'DCXC', 691:'DCXCI', 692:'DCXCII', 693:'DCXCIII', 694:'DCXCIV', 695:'DCXCV', 696:'DCXCVI', 697:'DCXCVII', 698:'DCXCVIII', 699:'DCXCIX', 700:'DCC', 701:'DCCI', 702:'DCCII', 703:'DCCIII', 704:'DCCIV', 705:'DCCV', 706:'DCCVI', 707:'DCCVII', 708:'DCCVIII', 709:'DCCIX', 710:'DCCX', 711:'DCCXI', 712:'DCCXII', 713:'DCCXIII', 714:'DCCXIV', 715:'DCCXV', 716:'DCCXVI', 717:'DCCXVII', 718:'DCCXVIII', 719:'DCCXIX', 720:'DCCXX', 721:'DCCXXI', 722:'DCCXXII', 723:'DCCXXIII', 724:'DCCXXIV', 725:'DCCXXV', 726:'DCCXXVI', 727:'DCCXXVII', 728:'DCCXXVIII', 729:'DCCXXIX', 730:'DCCXXX', 731:'DCCXXXI', 732:'DCCXXXII', 733:'DCCXXXIII', 734:'DCCXXXIV', 735:'DCCXXXV', 736:'DCCXXXVI', 737:'DCCXXXVII', 738:'DCCXXXVIII', 739:'DCCXXXIX', 740:'DCCXL', 741:'DCCXLI', 742:'DCCXLII', 743:'DCCXLIII', 744:'DCCXLIV', 745:'DCCXLV', 746:'DCCXLVI', 747:'DCCXLVII', 748:'DCCXLVIII', 749:'DCCXLIX', 750:'DCCL', 751:'DCCLI', 752:'DCCLII', 753:'DCCLIII', 754:'DCCLIV', 755:'DCCLV', 756:'DCCLVI', 757:'DCCLVII', 758:'DCCLVIII', 759:'DCCLIX', 760:'DCCLX', 761:'DCCLXI', 762:'DCCLXII', 763:'DCCLXIII', 764:'DCCLXIV', 765:'DCCLXV', 766:'DCCLXVI', 767:'DCCLXVII', 768:'DCCLXVIII', 769:'DCCLXIX', 770:'DCCLXX', 771:'DCCLXXI', 772:'DCCLXXII', 773:'DCCLXXIII', 774:'DCCLXXIV', 775:'DCCLXXV', 776:'DCCLXXVI', 777:'DCCLXXVII', 778:'DCCLXXVIII', 779:'DCCLXXIX', 780:'DCCLXXX', 781:'DCCLXXXI', 782:'DCCLXXXII', 783:'DCCLXXXIII', 784:'DCCLXXXIV', 785:'DCCLXXXV', 786:'DCCLXXXVI', 787:'DCCLXXXVII', 788:'DCCLXXXVIII', 789:'DCCLXXXIX', 790:'DCCXC', 791:'DCCXCI', 792:'DCCXCII', 793:'DCCXCIII', 794:'DCCXCIV', 795:'DCCXCV', 796:'DCCXCVI', 797:'DCCXCVII', 798:'DCCXCVIII', 799:'DCCXCIX', 800:'DCCC', 801:'DCCCI', 802:'DCCCII', 803:'DCCCIII', 804:'DCCCIV', 805:'DCCCV', 806:'DCCCVI', 807:'DCCCVII', 808:'DCCCVIII', 809:'DCCCIX', 810:'DCCCX', 811:'DCCCXI', 812:'DCCCXII', 813:'DCCCXIII', 814:'DCCCXIV', 815:'DCCCXV', 816:'DCCCXVI', 817:'DCCCXVII', 818:'DCCCXVIII', 819:'DCCCXIX', 820:'DCCCXX', 821:'DCCCXXI', 822:'DCCCXXII', 823:'DCCCXXIII', 824:'DCCCXXIV', 825:'DCCCXXV', 826:'DCCCXXVI', 827:'DCCCXXVII', 828:'DCCCXXVIII', 829:'DCCCXXIX', 830:'DCCCXXX', 831:'DCCCXXXI', 832:'DCCCXXXII', 833:'DCCCXXXIII', 834:'DCCCXXXIV', 835:'DCCCXXXV', 836:'DCCCXXXVI', 837:'DCCCXXXVII', 838:'DCCCXXXVIII', 839:'DCCCXXXIX', 840:'DCCCXL', 841:'DCCCXLI', 842:'DCCCXLII', 843:'DCCCXLIII', 844:'DCCCXLIV', 845:'DCCCXLV', 846:'DCCCXLVI', 847:'DCCCXLVII', 848:'DCCCXLVIII', 849:'DCCCXLIX', 850:'DCCCL', 851:'DCCCLI', 852:'DCCCLII', 853:'DCCCLIII', 854:'DCCCLIV', 855:'DCCCLV', 856:'DCCCLVI', 857:'DCCCLVII', 858:'DCCCLVIII', 859:'DCCCLIX', 860:'DCCCLX', 861:'DCCCLXI', 862:'DCCCLXII', 863:'DCCCLXIII', 864:'DCCCLXIV', 865:'DCCCLXV', 866:'DCCCLXVI', 867:'DCCCLXVII', 868:'DCCCLXVIII', 869:'DCCCLXIX', 870:'DCCCLXX', 871:'DCCCLXXI', 872:'DCCCLXXII', 873:'DCCCLXXIII', 874:'DCCCLXXIV', 875:'DCCCLXXV', 876:'DCCCLXXVI', 877:'DCCCLXXVII', 878:'DCCCLXXVIII', 879:'DCCCLXXIX', 880:'DCCCLXXX', 881:'DCCCLXXXI', 882:'DCCCLXXXII', 883:'DCCCLXXXIII', 884:'DCCCLXXXIV', 885:'DCCCLXXXV', 886:'DCCCLXXXVI', 887:'DCCCLXXXVII', 888:'DCCCLXXXVIII', 889:'DCCCLXXXIX', 890:'DCCCXC', 891:'DCCCXCI', 892:'DCCCXCII', 893:'DCCCXCIII', 894:'DCCCXCIV', 895:'DCCCXCV', 896:'DCCCXCVI', 897:'DCCCXCVII', 898:'DCCCXCVIII', 899:'DCCCXCIX', 900:'CM', 901:'CMI', 902:'CMII', 903:'CMIII', 904:'CMIV', 905:'CMV', 906:'CMVI', 907:'CMVII', 908:'CMVIII', 909:'CMIX', 910:'CMX', 911:'CMXI', 912:'CMXII', 913:'CMXIII', 914:'CMXIV', 915:'CMXV', 916:'CMXVI', 917:'CMXVII', 918:'CMXVIII', 919:'CMXIX', 920:'CMXX', 921:'CMXXI', 922:'CMXXII', 923:'CMXXIII', 924:'CMXXIV', 925:'CMXXV', 926:'CMXXVI', 927:'CMXXVII', 928:'CMXXVIII', 929:'CMXXIX', 930:'CMXXX', 931:'CMXXXI', 932:'CMXXXII', 933:'CMXXXIII', 934:'CMXXXIV', 935:'CMXXXV', 936:'CMXXXVI', 937:'CMXXXVII', 938:'CMXXXVIII', 939:'CMXXXIX', 940:'CMXL', 941:'CMXLI', 942:'CMXLII', 943:'CMXLIII', 944:'CMXLIV', 945:'CMXLV', 946:'CMXLVI', 947:'CMXLVII', 948:'CMXLVIII', 949:'CMXLIX', 950:'CML', 951:'CMLI', 952:'CMLII', 953:'CMLIII', 954:'CMLIV', 955:'CMLV', 956:'CMLVI', 957:'CMLVII', 958:'CMLVIII', 959:'CMLIX', 960:'CMLX', 961:'CMLXI', 962:'CMLXII', 963:'CMLXIII', 964:'CMLXIV', 965:'CMLXV', 966:'CMLXVI', 967:'CMLXVII', 968:'CMLXVIII', 969:'CMLXIX', 970:'CMLXX', 971:'CMLXXI', 972:'CMLXXII', 973:'CMLXXIII', 974:'CMLXXIV', 975:'CMLXXV', 976:'CMLXXVI', 977:'CMLXXVII', 978:'CMLXXVIII', 979:'CMLXXIX', 980:'CMLXXX', 981:'CMLXXXI', 982:'CMLXXXII', 983:'CMLXXXIII', 984:'CMLXXXIV', 985:'CMLXXXV', 986:'CMLXXXVI', 987:'CMLXXXVII', 988:'CMLXXXVIII', 989:'CMLXXXIX', 990:'CMXC', 991:'CMXCI', 992:'CMXCII', 993:'CMXCIII', 994:'CMXCIV', 995:'CMXCV', 996:'CMXCVI', 997:'CMXCVII', 998:'CMXCVIII', 999:'CMXCIX', 1000:'M', 1001:'MI', 1002:'MII', 1003:'MIII', 1004:'MIV', 1005:'MV', 1006:'MVI', 1007:'MVII', 1008:'MVIII', 1009:'MIX', 1010:'MX', 1011:'MXI', 1012:'MXII', 1013:'MXIII', 1014:'MXIV', 1015:'MXV', 1016:'MXVI', 1017:'MXVII', 1018:'MXVIII', 1019:'MXIX', 1020:'MXX', 1021:'MXXI', 1022:'MXXII', 1023:'MXXIII', 1024:'MXXIV', 1025:'MXXV', 1026:'MXXVI', 1027:'MXXVII', 1028:'MXXVIII', 1029:'MXXIX', 1030:'MXXX', 1031:'MXXXI', 1032:'MXXXII', 1033:'MXXXIII', 1034:'MXXXIV', 1035:'MXXXV', 1036:'MXXXVI', 1037:'MXXXVII', 1038:'MXXXVIII', 1039:'MXXXIX', 1040:'MXL', 1041:'MXLI', 1042:'MXLII', 1043:'MXLIII', 1044:'MXLIV', 1045:'MXLV', 1046:'MXLVI', 1047:'MXLVII', 1048:'MXLVIII', 1049:'MXLIX', 1050:'ML', 1051:'MLI', 1052:'MLII', 1053:'MLIII', 1054:'MLIV', 1055:'MLV', 1056:'MLVI', 1057:'MLVII', 1058:'MLVIII', 1059:'MLIX', 1060:'MLX', 1061:'MLXI', 1062:'MLXII', 1063:'MLXIII', 1064:'MLXIV', 1065:'MLXV', 1066:'MLXVI', 1067:'MLXVII', 1068:'MLXVIII', 1069:'MLXIX', 1070:'MLXX', 1071:'MLXXI', 1072:'MLXXII', 1073:'MLXXIII', 1074:'MLXXIV', 1075:'MLXXV', 1076:'MLXXVI', 1077:'MLXXVII', 1078:'MLXXVIII', 1079:'MLXXIX', 1080:'MLXXX', 1081:'MLXXXI', 1082:'MLXXXII', 1083:'MLXXXIII', 1084:'MLXXXIV', 1085:'MLXXXV', 1086:'MLXXXVI', 1087:'MLXXXVII', 1088:'MLXXXVIII', 1089:'MLXXXIX', 1090:'MXC', 1091:'MXCI', 1092:'MXCII', 1093:'MXCIII', 1094:'MXCIV', 1095:'MXCV', 1096:'MXCVI', 1097:'MXCVII', 1098:'MXCVIII', 1099:'MXCIX', 1100:'MC', 1101:'MCI', 1102:'MCII', 1103:'MCIII', 1104:'MCIV', 1105:'MCV', 1106:'MCVI', 1107:'MCVII', 1108:'MCVIII', 1109:'MCIX', 1110:'MCX', 1111:'MCXI', 1112:'MCXII', 1113:'MCXIII', 1114:'MCXIV', 1115:'MCXV', 1116:'MCXVI', 1117:'MCXVII', 1118:'MCXVIII', 1119:'MCXIX', 1120:'MCXX', 1121:'MCXXI', 1122:'MCXXII', 1123:'MCXXIII', 1124:'MCXXIV', 1125:'MCXXV', 1126:'MCXXVI', 1127:'MCXXVII', 1128:'MCXXVIII', 1129:'MCXXIX', 1130:'MCXXX', 1131:'MCXXXI', 1132:'MCXXXII', 1133:'MCXXXIII', 1134:'MCXXXIV', 1135:'MCXXXV', 1136:'MCXXXVI', 1137:'MCXXXVII', 1138:'MCXXXVIII', 1139:'MCXXXIX', 1140:'MCXL', 1141:'MCXLI', 1142:'MCXLII', 1143:'MCXLIII', 1144:'MCXLIV', 1145:'MCXLV', 1146:'MCXLVI', 1147:'MCXLVII', 1148:'MCXLVIII', 1149:'MCXLIX', 1150:'MCL', 1151:'MCLI', 1152:'MCLII', 1153:'MCLIII', 1154:'MCLIV', 1155:'MCLV', 1156:'MCLVI', 1157:'MCLVII', 1158:'MCLVIII', 1159:'MCLIX', 1160:'MCLX', 1161:'MCLXI', 1162:'MCLXII', 1163:'MCLXIII', 1164:'MCLXIV', 1165:'MCLXV', 1166:'MCLXVI', 1167:'MCLXVII', 1168:'MCLXVIII', 1169:'MCLXIX', 1170:'MCLXX', 1171:'MCLXXI', 1172:'MCLXXII', 1173:'MCLXXIII', 1174:'MCLXXIV', 1175:'MCLXXV', 1176:'MCLXXVI', 1177:'MCLXXVII', 1178:'MCLXXVIII', 1179:'MCLXXIX', 1180:'MCLXXX', 1181:'MCLXXXI', 1182:'MCLXXXII', 1183:'MCLXXXIII', 1184:'MCLXXXIV', 1185:'MCLXXXV', 1186:'MCLXXXVI', 1187:'MCLXXXVII', 1188:'MCLXXXVIII', 1189:'MCLXXXIX', 1190:'MCXC', 1191:'MCXCI', 1192:'MCXCII', 1193:'MCXCIII', 1194:'MCXCIV', 1195:'MCXCV', 1196:'MCXCVI', 1197:'MCXCVII', 1198:'MCXCVIII', 1199:'MCXCIX', 1200:'MCC', 1201:'MCCI', 1202:'MCCII', 1203:'MCCIII', 1204:'MCCIV', 1205:'MCCV', 1206:'MCCVI', 1207:'MCCVII', 1208:'MCCVIII', 1209:'MCCIX', 1210:'MCCX', 1211:'MCCXI', 1212:'MCCXII', 1213:'MCCXIII', 1214:'MCCXIV', 1215:'MCCXV', 1216:'MCCXVI', 1217:'MCCXVII', 1218:'MCCXVIII', 1219:'MCCXIX', 1220:'MCCXX', 1221:'MCCXXI', 1222:'MCCXXII', 1223:'MCCXXIII', 1224:'MCCXXIV', 1225:'MCCXXV', 1226:'MCCXXVI', 1227:'MCCXXVII', 1228:'MCCXXVIII', 1229:'MCCXXIX', 1230:'MCCXXX', 1231:'MCCXXXI', 1232:'MCCXXXII', 1233:'MCCXXXIII', 1234:'MCCXXXIV', 1235:'MCCXXXV', 1236:'MCCXXXVI', 1237:'MCCXXXVII', 1238:'MCCXXXVIII', 1239:'MCCXXXIX', 1240:'MCCXL', 1241:'MCCXLI', 1242:'MCCXLII', 1243:'MCCXLIII', 1244:'MCCXLIV', 1245:'MCCXLV', 1246:'MCCXLVI', 1247:'MCCXLVII', 1248:'MCCXLVIII', 1249:'MCCXLIX', 1250:'MCCL', 1251:'MCCLI', 1252:'MCCLII', 1253:'MCCLIII', 1254:'MCCLIV', 1255:'MCCLV', 1256:'MCCLVI', 1257:'MCCLVII', 1258:'MCCLVIII', 1259:'MCCLIX', 1260:'MCCLX', 1261:'MCCLXI', 1262:'MCCLXII', 1263:'MCCLXIII', 1264:'MCCLXIV', 1265:'MCCLXV', 1266:'MCCLXVI', 1267:'MCCLXVII', 1268:'MCCLXVIII', 1269:'MCCLXIX', 1270:'MCCLXX', 1271:'MCCLXXI', 1272:'MCCLXXII', 1273:'MCCLXXIII', 1274:'MCCLXXIV', 1275:'MCCLXXV', 1276:'MCCLXXVI', 1277:'MCCLXXVII', 1278:'MCCLXXVIII', 1279:'MCCLXXIX', 1280:'MCCLXXX', 1281:'MCCLXXXI', 1282:'MCCLXXXII', 1283:'MCCLXXXIII', 1284:'MCCLXXXIV', 1285:'MCCLXXXV', 1286:'MCCLXXXVI', 1287:'MCCLXXXVII', 1288:'MCCLXXXVIII', 1289:'MCCLXXXIX', 1290:'MCCXC', 1291:'MCCXCI', 1292:'MCCXCII', 1293:'MCCXCIII', 1294:'MCCXCIV', 1295:'MCCXCV', 1296:'MCCXCVI', 1297:'MCCXCVII', 1298:'MCCXCVIII', 1299:'MCCXCIX', 1300:'MCCC', 1301:'MCCCI', 1302:'MCCCII', 1303:'MCCCIII', 1304:'MCCCIV', 1305:'MCCCV', 1306:'MCCCVI', 1307:'MCCCVII', 1308:'MCCCVIII', 1309:'MCCCIX', 1310:'MCCCX', 1311:'MCCCXI', 1312:'MCCCXII', 1313:'MCCCXIII', 1314:'MCCCXIV', 1315:'MCCCXV', 1316:'MCCCXVI', 1317:'MCCCXVII', 1318:'MCCCXVIII', 1319:'MCCCXIX', 1320:'MCCCXX', 1321:'MCCCXXI', 1322:'MCCCXXII', 1323:'MCCCXXIII', 1324:'MCCCXXIV', 1325:'MCCCXXV', 1326:'MCCCXXVI', 1327:'MCCCXXVII', 1328:'MCCCXXVIII', 1329:'MCCCXXIX', 1330:'MCCCXXX', 1331:'MCCCXXXI', 1332:'MCCCXXXII', 1333:'MCCCXXXIII', 1334:'MCCCXXXIV', 1335:'MCCCXXXV', 1336:'MCCCXXXVI', 1337:'MCCCXXXVII', 1338:'MCCCXXXVIII', 1339:'MCCCXXXIX', 1340:'MCCCXL', 1341:'MCCCXLI', 1342:'MCCCXLII', 1343:'MCCCXLIII', 1344:'MCCCXLIV', 1345:'MCCCXLV', 1346:'MCCCXLVI', 1347:'MCCCXLVII', 1348:'MCCCXLVIII', 1349:'MCCCXLIX', 1350:'MCCCL', 1351:'MCCCLI', 1352:'MCCCLII', 1353:'MCCCLIII', 1354:'MCCCLIV', 1355:'MCCCLV', 1356:'MCCCLVI', 1357:'MCCCLVII', 1358:'MCCCLVIII', 1359:'MCCCLIX', 1360:'MCCCLX', 1361:'MCCCLXI', 1362:'MCCCLXII', 1363:'MCCCLXIII', 1364:'MCCCLXIV', 1365:'MCCCLXV', 1366:'MCCCLXVI', 1367:'MCCCLXVII', 1368:'MCCCLXVIII', 1369:'MCCCLXIX', 1370:'MCCCLXX', 1371:'MCCCLXXI', 1372:'MCCCLXXII', 1373:'MCCCLXXIII', 1374:'MCCCLXXIV', 1375:'MCCCLXXV', 1376:'MCCCLXXVI', 1377:'MCCCLXXVII', 1378:'MCCCLXXVIII', 1379:'MCCCLXXIX', 1380:'MCCCLXXX', 1381:'MCCCLXXXI', 1382:'MCCCLXXXII', 1383:'MCCCLXXXIII', 1384:'MCCCLXXXIV', 1385:'MCCCLXXXV', 1386:'MCCCLXXXVI', 1387:'MCCCLXXXVII', 1388:'MCCCLXXXVIII', 1389:'MCCCLXXXIX', 1390:'MCCCXC', 1391:'MCCCXCI', 1392:'MCCCXCII', 1393:'MCCCXCIII', 1394:'MCCCXCIV', 1395:'MCCCXCV', 1396:'MCCCXCVI', 1397:'MCCCXCVII', 1398:'MCCCXCVIII', 1399:'MCCCXCIX', 1400:'MCD', 1401:'MCDI', 1402:'MCDII', 1403:'MCDIII', 1404:'MCDIV', 1405:'MCDV', 1406:'MCDVI', 1407:'MCDVII', 1408:'MCDVIII', 1409:'MCDIX', 1410:'MCDX', 1411:'MCDXI', 1412:'MCDXII', 1413:'MCDXIII', 1414:'MCDXIV', 1415:'MCDXV', 1416:'MCDXVI', 1417:'MCDXVII', 1418:'MCDXVIII', 1419:'MCDXIX', 1420:'MCDXX', 1421:'MCDXXI', 1422:'MCDXXII', 1423:'MCDXXIII', 1424:'MCDXXIV', 1425:'MCDXXV', 1426:'MCDXXVI', 1427:'MCDXXVII', 1428:'MCDXXVIII', 1429:'MCDXXIX', 1430:'MCDXXX', 1431:'MCDXXXI', 1432:'MCDXXXII', 1433:'MCDXXXIII', 1434:'MCDXXXIV', 1435:'MCDXXXV', 1436:'MCDXXXVI', 1437:'MCDXXXVII', 1438:'MCDXXXVIII', 1439:'MCDXXXIX', 1440:'MCDXL', 1441:'MCDXLI', 1442:'MCDXLII', 1443:'MCDXLIII', 1444:'MCDXLIV', 1445:'MCDXLV', 1446:'MCDXLVI', 1447:'MCDXLVII', 1448:'MCDXLVIII', 1449:'MCDXLIX'}\n",
    "#print(test_dict [9])\n",
    "\n",
    "num_dict = {'M' : 1000, 'D' : 500, 'C' : 100, 'L' : 50, 'X' : 10, 'V' : 5, 'I' : 1}\n",
    "arabic = 0\n",
    "for j in range(1,1450):\n",
    "    roman = test_dict [j]\n",
    "    length_of_roman = len(roman)\n",
    "\n",
    "    if length_of_roman == 1:\n",
    "        arabic = num_dict[roman]\n",
    "        if arabic != j:\n",
    "            print (\"failed for:\", j, \"roman value:\", roman, \"arabic value:\", arabic)\n",
    "\n",
    "    if length_of_roman > 1:\n",
    "        arabic = 0\n",
    "        i = 0\n",
    "        while i <= length_of_roman-1:\n",
    "            if ((2+i) <= length_of_roman) and (num_dict[roman [-1-i]] > num_dict[roman [-2-i]]):\n",
    "                arabic = arabic + (num_dict[roman [-1-i]] - num_dict[roman [-2-i]])\n",
    "                i = i + 2\n",
    "            else:\n",
    "                arabic = arabic + (num_dict[roman [-1-i]])\n",
    "                i = i + 1\n",
    "        if arabic != j:\n",
    "            print (\"failed for:\", j, \"roman value:\", roman, \"arabic value:\", arabic)\n"
   ]
  },
  {
   "cell_type": "code",
   "execution_count": null,
   "metadata": {},
   "outputs": [],
   "source": []
  },
  {
   "cell_type": "markdown",
   "metadata": {
    "slideshow": {
     "slide_type": "subslide"
    }
   },
   "source": [
    "## Lab: Word Counting\n",
    "* write a program to read lines of text entered by the user\n",
    "* split the lines into words, and count the occurrences of each word using a dictionary\n",
    "* if the word is in dictionary (use the __`in`__ operator), increment its count\n",
    "* if the word is NOT in the dictionary, set its count to 1\n",
    "* stop when the user enters 'quit', and print out the words and their counts\n",
    "* BONUS:  Read lines of text from a file instead.  Don't forget to handle puncuation!\n",
    "* EXTRA BONUS: Output your dictionary in order from most to least common words\n",
    "\n"
   ]
  },
  {
   "cell_type": "markdown",
   "metadata": {
    "slideshow": {
     "slide_type": "subslide"
    }
   },
   "source": [
    "## Deleting from a __`dict`__\n",
    "* __`pop(key)`__ will remove the corresponding key/value pair from the __`dict`__\n",
    "* __`clear()`__ will remove ALL entries"
   ]
  },
  {
   "cell_type": "code",
   "execution_count": null,
   "metadata": {},
   "outputs": [],
   "source": [
    "cups.pop('not there')"
   ]
  },
  {
   "cell_type": "code",
   "execution_count": null,
   "metadata": {},
   "outputs": [],
   "source": [
    "if 'grande' in cups:\n",
    "    cups.pop('grande')\n",
    "cups"
   ]
  },
  {
   "cell_type": "code",
   "execution_count": null,
   "metadata": {},
   "outputs": [],
   "source": [
    "cups.clear()\n",
    "cups"
   ]
  },
  {
   "cell_type": "markdown",
   "metadata": {
    "slideshow": {
     "slide_type": "slide"
    }
   },
   "source": [
    "# Defining Our Own Functions"
   ]
  },
  {
   "cell_type": "markdown",
   "metadata": {
    "slideshow": {
     "slide_type": "subslide"
    }
   },
   "source": [
    "## What is a Function (Redux)?\n",
    "* a _function_ is a named, self-contained snippet of code which performs a specific task\n",
    "* functions are sometimes called procedures, subprograms, or methods\n",
    "* functions can accept some data as input, and can return some data as output\n",
    "* the input, which is optional, is called _parameters_ or _arguments_\n",
    "* the output, which is also optional, is called the _return value_\n",
    "* we use the __`def`__ keyword to define a function\n",
    "* the body of the function is indented\n",
    "* syntax\n",
    "\n",
    "<pre>\n",
    "    <b>\n",
    "    def funcname(arg1, arg2, ...):\n",
    "        statement(s)\n",
    "    </b>\n",
    "</pre>"
   ]
  },
  {
   "cell_type": "code",
   "execution_count": null,
   "metadata": {},
   "outputs": [],
   "source": [
    "# Here is a function which takes no input (parameters) and has\n",
    "# no return value. The things that are printed by the function\n",
    "# are not considered a return value.\n",
    "\n",
    "def print_header():\n",
    "    print('-' * 63)\n",
    "    print('   RESTRICTED ACCESS' * 3)\n",
    "    print('-' * 63)\n",
    "    \n",
    "print_header()\n",
    "print('you should not be reading this')\n",
    "print_header()"
   ]
  },
  {
   "cell_type": "code",
   "execution_count": null,
   "metadata": {},
   "outputs": [],
   "source": [
    "# This function takes a single argument (or parameter),\n",
    "# but it does not return anything.\n",
    "def pretty_print(message):\n",
    "    print_header()\n",
    "    print(message)\n",
    "    print_header()"
   ]
  },
  {
   "cell_type": "code",
   "execution_count": null,
   "metadata": {},
   "outputs": [],
   "source": [
    "pretty_print('          DO NOT LOOK AT THIS SCREEN!')"
   ]
  },
  {
   "cell_type": "code",
   "execution_count": null,
   "metadata": {},
   "outputs": [],
   "source": [
    "# This function takes two arguments\n",
    "def print_sum(num1, num2):\n",
    "    print('the sum of', num1, 'and', num2, 'is', num1 + num2)\n",
    "\n",
    "print_sum(32, 48)"
   ]
  },
  {
   "cell_type": "markdown",
   "metadata": {
    "slideshow": {
     "slide_type": "subslide"
    }
   },
   "source": [
    "## Lab: Mastermind/Cows and Bulls Game\n",
    "* your program should generate a 4-digit \"secret\" number, where the digits are  all different\n",
    "* the player tries to guess the number  who gives the number of matches. If the matching digits are in their right positions, they are \"bulls\", if in different positions, they are \"cows\". "
   ]
  },
  {
   "cell_type": "code",
   "execution_count": null,
   "metadata": {},
   "outputs": [],
   "source": []
  },
  {
   "cell_type": "markdown",
   "metadata": {
    "slideshow": {
     "slide_type": "subslide"
    }
   },
   "source": [
    "## Scope\n",
    "* the _scope_ of a variable is the part of the program in which the variable can be accessed\n",
    "* so far we have been creating variables in \"global scope\", which means they can be accessed anywhere in the program, i.e., _globally_\n",
    "* when we create a variable inside a function it can be accessed from that point until the end of the function–once the function exits, the variable is no longer accessible"
   ]
  },
  {
   "cell_type": "code",
   "execution_count": null,
   "metadata": {
    "scrolled": true
   },
   "outputs": [],
   "source": [
    "def function_scope():\n",
    "    print('in function function_scope()')\n",
    "    print('creating the variable \"funcvar\"')\n",
    "    funcvar = 'this variable was created inside the function'\n",
    "    print('funcvar =', funcvar)\n",
    "    print('leaving function function_scope()')\n",
    "    \n",
    "function_scope()\n",
    "print(funcvar)\n"
   ]
  },
  {
   "cell_type": "markdown",
   "metadata": {},
   "source": [
    "## Next Week - No Class\n",
    "### But Remember: Practice makes perfect!\n",
    "### Contact:\n",
    "JR Rickerson  \n",
    "jrrickerson@redrivetstudios.com\n",
    "## Suggested practice activities:\n",
    "* Python Challenge - http://www.pythonchallenge.com\n",
    "* Project Euler - https://projecteuler.net/\n",
    "* Rosetta Code - http://rosettacode.org/wiki/Rosetta_Code\n",
    "* Code Katas\n",
    "    * http://codekata.com/\n",
    "    * https://github.com/gamontal/awesome-katas\n",
    "    * https://github.com/pyatl/jam-sessions\n",
    "    * https://www.codewars.com/\n",
    "* Coding Dojo tool - http://cyber-dojo.org\n",
    "* Choose a simple game (old board games) and implement it!"
   ]
  },
  {
   "cell_type": "markdown",
   "metadata": {
    "slideshow": {
     "slide_type": "subslide"
    }
   },
   "source": [
    "## The __`return`__ Statement\n",
    "* if a function wants to return a value to its caller, it must use the __`return`__ statement\n",
    "* whatever value you put in the __`return`__ statement is returned "
   ]
  },
  {
   "cell_type": "code",
   "execution_count": null,
   "metadata": {
    "scrolled": true
   },
   "outputs": [],
   "source": [
    "def adder(x, y):\n",
    "    return x + y\n",
    "\n",
    "adder(21, 34)\n",
    "\n",
    "def add_and_sub(x, y):\n",
    "    return x + y, x - y\n",
    "\n",
    "summation, diff = add_and_sub(21, 34)\n",
    "print(summation)\n",
    "print(diff)\n"
   ]
  },
  {
   "cell_type": "code",
   "execution_count": null,
   "metadata": {},
   "outputs": [],
   "source": [
    "var = adder(-3, 1.0) # adder() returns the sum of its two arguments\n",
    "print(var)"
   ]
  },
  {
   "cell_type": "code",
   "execution_count": null,
   "metadata": {},
   "outputs": [],
   "source": [
    "def add_ints(x, y):\n",
    "    # if x is int\n",
    "    if type(x) != int or type(y) != int:\n",
    "        result = None\n",
    "    else:\n",
    "        result = x + y\n",
    "    return result"
   ]
  },
  {
   "cell_type": "code",
   "execution_count": null,
   "metadata": {},
   "outputs": [],
   "source": [
    "def wrapper_function(message, x, y):\n",
    "    print(message, 'started')\n",
    "    def add_stuff(x, y):\n",
    "        return x + y\n",
    "    print(message, 'done')\n",
    "    return add_stuff(x, y)\n",
    "\n",
    "wrapper_function('Message', 1, 2)\n",
    "add_stuff(1, 2)"
   ]
  },
  {
   "cell_type": "markdown",
   "metadata": {
    "slideshow": {
     "slide_type": "subslide"
    }
   },
   "source": [
    "## Boolean Functions\n",
    "* functions can return any datatype, but let's consider the class of functions that return a Boolean value, i.e., __`True`__ or __`False`__ \n",
    "* these functions can be used to make our code more readable, especially if we name them __`is_...()`__"
   ]
  },
  {
   "cell_type": "code",
   "execution_count": null,
   "metadata": {},
   "outputs": [],
   "source": [
    "def is_even(number):\n",
    "    return number % 2 == 0\n",
    "\n",
    "num = int(input('Enter a number: '))\n",
    "if is_even(num):\n",
    "    print(num, 'is an even number')\n",
    "else:\n",
    "    print(num, 'is an ODD number')"
   ]
  },
  {
   "cell_type": "markdown",
   "metadata": {
    "slideshow": {
     "slide_type": "subslide"
    }
   },
   "source": [
    "## Functions Can Call Other Functions\n",
    "* ideally, when we write code to solve a problem, we break the problem down into subproblems, and then break those down further into subproblems, etc.\n",
    "* when the problems are \"small enough,\" we write functions to solve them\n",
    "* a good rule of thumb is that if your explanation of what a function does contains the word _and_, then it needs to be broken down even further\n",
    "* better to have too many functions than too few\n",
    "<pre>\n",
    "    <b>\n",
    "    def task1(arg1, arg2, ...):\n",
    "        statement(s)\n",
    "        task2(...)\n",
    "        statement(s)\n",
    "        \n",
    "    def task2(arg1, arg2, ...):\n",
    "        statement(s)\n",
    "        task3(...)\n",
    "        statement(s)\n",
    "        \n",
    "     def task3(arg1, arg2, ...):\n",
    "        statement(s)\n",
    "        \n",
    "     # Now call the first function\n",
    "     task1(...)   \n",
    "    </b>\n",
    "</pre>\n",
    "* in order for one function to call another, the function being called has to have been seen by the interpreter or Python won't know what it is\n",
    "* but as written above, it's fine, because the Python intepreter sees all three functions before the call of __`task1()`__ occurs"
   ]
  },
  {
   "cell_type": "markdown",
   "metadata": {
    "slideshow": {
     "slide_type": "subslide"
    }
   },
   "source": [
    "## Lab: Functions\n",
    "* write __max3__, a function to find the maximum of three values (first create a function that finds the maximum of two values and have __max3__ call it)\n",
    "* write a function to sum all of the numbers in a list\n",
    "* write a function which accepts a list as its argument and returns a new list with all of the duplicates removed (e.g., __remove_dupes([3, 1, 2, 3, 1, 3, 3, 4, 1])__ would return [3, 1, 2, 4])\n",
    "* write a function to check whether its string argument is a pangram (i.e., it contains all of the letters of the alphabet)\n",
    "* write a Boolean function which accepts a string argument and indicates whether it is a palindrome (i.e., it reads the same backwards and forwards–e.g., \"radar\")\n",
    " * once you get that, try to make it work even if the string contains spaces, e.g., \"Ten animals I slam in a net\"\n",
    " * try to use slices if you didn't already"
   ]
  },
  {
   "cell_type": "code",
   "execution_count": null,
   "metadata": {},
   "outputs": [],
   "source": []
  },
  {
   "cell_type": "markdown",
   "metadata": {
    "slideshow": {
     "slide_type": "slide"
    }
   },
   "source": [
    "\n",
    "# Modules"
   ]
  },
  {
   "cell_type": "markdown",
   "metadata": {
    "slideshow": {
     "slide_type": "subslide"
    }
   },
   "source": [
    "## What is a Module?\n",
    "* a module is file containing one or more related functions\n",
    "* we can _import_ the module into our program, giving us access to those functions\n",
    "* the __`string`__ module used to give us access to functions which manipulate strings, but  these functions have been built in to Python strings for a while\n",
    "  * the real value of the string module is the constants it defines\n",
    "* the __`math`__ module gives us access to math functions such as __`sqrt`__, __`sin`__, and __`factorial`__\n",
    "* the random module gives us access to functions that generate random numbers\n"
   ]
  },
  {
   "cell_type": "code",
   "execution_count": null,
   "metadata": {},
   "outputs": [],
   "source": [
    "import string\n",
    "print(string.digits)\n",
    "print(string.punctuation)\n",
    "print(string.ascii_uppercase)\n",
    "print(string.ascii_letters)"
   ]
  },
  {
   "cell_type": "code",
   "execution_count": null,
   "metadata": {},
   "outputs": [],
   "source": [
    "import math\n",
    "print(math.sqrt(2))\n",
    "print(math.sin(1.5708)) # 90 degrees in radians\n",
    "print(math.factorial(52))"
   ]
  },
  {
   "cell_type": "code",
   "execution_count": null,
   "metadata": {},
   "outputs": [],
   "source": [
    "import random\n",
    "# random.choice() is a really useful function which randomly chooses an item from a sequence\n",
    "list_of_fruits = 'apple pear banana guava'.split()\n",
    "print(random.choice(list_of_fruits))\n",
    "# random.randint(a, b) returns a random integer between a and b (inclusive)\n",
    "print(random.randint(1, 100))"
   ]
  },
  {
   "cell_type": "code",
   "execution_count": null,
   "metadata": {},
   "outputs": [],
   "source": [
    "dir(random)\n",
    "random.__file__"
   ]
  },
  {
   "cell_type": "code",
   "execution_count": null,
   "metadata": {},
   "outputs": [],
   "source": [
    "from random import choice as ch\n",
    "\n",
    "ch([1, 2, 3])"
   ]
  },
  {
   "cell_type": "markdown",
   "metadata": {},
   "source": [
    "# Object-Oriented Programming/Classes\n",
    "### A very brief introduction"
   ]
  },
  {
   "cell_type": "markdown",
   "metadata": {},
   "source": [
    "## Classes\n",
    "* so far we've looked at built-in types; now we're going to define a new type\n",
    "* class = programmer-defined type"
   ]
  },
  {
   "cell_type": "code",
   "execution_count": null,
   "metadata": {},
   "outputs": [],
   "source": [
    "# simplest class/object we can create\n",
    "class Person(object):\n",
    "    pass"
   ]
  },
  {
   "cell_type": "code",
   "execution_count": null,
   "metadata": {},
   "outputs": [],
   "source": [
    "# to instantiate, or create and object, you call the class as\n",
    "# if were a function\n",
    "somebody = Person()"
   ]
  },
  {
   "cell_type": "code",
   "execution_count": null,
   "metadata": {},
   "outputs": [],
   "source": [
    "somebody # somebody is an instance of the Person class"
   ]
  },
  {
   "cell_type": "code",
   "execution_count": null,
   "metadata": {},
   "outputs": [],
   "source": [
    "type(somebody), type(3)"
   ]
  },
  {
   "cell_type": "code",
   "execution_count": null,
   "metadata": {},
   "outputs": [],
   "source": [
    "type(Person), type(int)"
   ]
  },
  {
   "cell_type": "code",
   "execution_count": null,
   "metadata": {},
   "outputs": [],
   "source": [
    "class BankAccount(object):\n",
    "    # __init__ is like a constructor\n",
    "    # it is used to initialize the object that is created\n",
    "    def __init__(self, name, initial_balance):\n",
    "        self.name = name\n",
    "        self.balance = initial_balance\n",
    "        print('in __init__')\n",
    "        \n",
    "    # all methods (with some exceptions) must have self as a first parameter...\n",
    "    # ...even though you don't pass self when you call the method (Python does)\n",
    "    def deposit(self, amount):\n",
    "        if amount > 0:\n",
    "            self.balance += amount\n",
    "            return self.balance\n",
    "        else:\n",
    "            print(\"can't deposit nonpositive amount!\")\n",
    "\n",
    "    def withdraw(self, amount):\n",
    "        if amount > 0:\n",
    "            if amount <= self.balance:\n",
    "                self.balance -= amount\n",
    "                return self.balance\n",
    "            else:\n",
    "                print(\"can't withdraw\", amount, \"or you would be overdrawn!\")\n",
    "        else:\n",
    "            print(\"can't withdraw nonpositive amount!\")\n"
   ]
  },
  {
   "cell_type": "code",
   "execution_count": null,
   "metadata": {},
   "outputs": [],
   "source": [
    "account1 = BankAccount('Marc Benioff', 345)"
   ]
  },
  {
   "cell_type": "code",
   "execution_count": null,
   "metadata": {},
   "outputs": [],
   "source": [
    "# what is account1?\n",
    "account1"
   ]
  },
  {
   "cell_type": "code",
   "execution_count": null,
   "metadata": {},
   "outputs": [],
   "source": [
    "# we can inspect attributes of our newly-created object\n",
    "print(account1.name, account1.balance)"
   ]
  },
  {
   "cell_type": "code",
   "execution_count": null,
   "metadata": {},
   "outputs": [],
   "source": [
    "# we can deposit money\n",
    "account1.deposit(25)"
   ]
  },
  {
   "cell_type": "code",
   "execution_count": null,
   "metadata": {},
   "outputs": [],
   "source": [
    "# we can withdraw money\n",
    "account1.withdraw(5)"
   ]
  },
  {
   "cell_type": "markdown",
   "metadata": {},
   "source": [
    "## Classes: \"magic\" methods\n",
    "* __\\_\\_init\\_\\___ is a special initialization method that is invoked when the object is instantiated\n",
    "* __\\_\\_str\\_\\___ returns a string representation of the object (i.e., for humans), maps to str() function\n",
    "* __\\_\\_repr\\_\\___ returns unambiguous representation of the object which could be fed to Python interpreter to recreate the object, maps to repr() function"
   ]
  },
  {
   "cell_type": "code",
   "execution_count": null,
   "metadata": {},
   "outputs": [],
   "source": [
    "import datetime\n",
    "today = datetime.datetime.now()\n",
    "str(today), repr(today)"
   ]
  },
  {
   "cell_type": "markdown",
   "metadata": {},
   "source": [
    "## Let's add __\\_\\_`repr`\\_\\_ and __\\_\\_`str`\\_\\_ to our class"
   ]
  },
  {
   "cell_type": "code",
   "execution_count": null,
   "metadata": {},
   "outputs": [],
   "source": [
    "class BankAccount(object):\n",
    "    def __init__(self, name, initial_balance):\n",
    "        self.name = name\n",
    "        self.balance = initial_balance\n",
    "\n",
    "    '''representation of the object \"feedable\" to Python\n",
    "    interpreter'''\n",
    "    def __repr__(self):\n",
    "        return self.__class__.__name__ + '(' + repr(self.name) \\\n",
    "               + ', ' + repr(self.balance) + ')'\n",
    "\n",
    "    '''string representation of object, for humans\n",
    "    __repr__ is used if __str__ does not exist'''\n",
    "    def __str__(self):\n",
    "        print('in the __str__() function')\n",
    "        return self.name + ' ' + str(self.balance)\n",
    "\n",
    "    def __add__(self, other):\n",
    "        return BankAccount(self.name + ' ' + other.name,\n",
    "                    self.balance + other.balance)\n",
    "    \n",
    "    def deposit(self, amount):\n",
    "        if amount > 0:\n",
    "            self.balance += amount\n",
    "            return self.balance\n",
    "        else:\n",
    "            print(\"can't deposit nonpositive amount!\")\n",
    "\n",
    "    def withdraw(self, amount):\n",
    "        if amount > 0:\n",
    "            if amount <= self.balance:\n",
    "                self.balance -= amount\n",
    "                return self.balance\n",
    "            else:\n",
    "                print(\"can't withdraw\", amount, \"or you would be overdrawn!\")\n",
    "        else:\n",
    "            print(\"can't withdraw nonpositive amount!\")"
   ]
  },
  {
   "cell_type": "code",
   "execution_count": null,
   "metadata": {},
   "outputs": [],
   "source": [
    "account2 = BankAccount('Gutzon Borglum', 100.0)\n",
    "account3 = BankAccount('Marie Curie', 200.0)"
   ]
  },
  {
   "cell_type": "code",
   "execution_count": null,
   "metadata": {},
   "outputs": [],
   "source": [
    "# try repr()\n",
    "repr(account2)\n",
    "account3 = BankAccount('Gutzon Borglum', 100.0)\n",
    "print(account3)"
   ]
  },
  {
   "cell_type": "code",
   "execution_count": null,
   "metadata": {},
   "outputs": [],
   "source": [
    "dir(account3)\n",
    "print(account3.__dict__)"
   ]
  },
  {
   "cell_type": "code",
   "execution_count": null,
   "metadata": {},
   "outputs": [],
   "source": [
    "# try str()\n",
    "account2.__str__()"
   ]
  },
  {
   "cell_type": "markdown",
   "metadata": {},
   "source": [
    "## Other \"magic\" methods\n",
    "* __\\_\\_add\\_\\___ = add two objects together\n",
    "* __\\_\\_eq\\_\\___ = implementation of ==\n",
    "* __\\_\\_ne\\_\\___ = implementation of !=\n",
    "* __\\_\\_len\\_\\___ = implementation of len() method\n",
    "* many others!"
   ]
  },
  {
   "cell_type": "code",
   "execution_count": null,
   "metadata": {},
   "outputs": [],
   "source": []
  }
 ],
 "metadata": {
  "celltoolbar": "Slideshow",
  "kernelspec": {
   "display_name": "Python 3",
   "language": "python",
   "name": "python3"
  },
  "language_info": {
   "codemirror_mode": {
    "name": "ipython",
    "version": 3
   },
   "file_extension": ".py",
   "mimetype": "text/x-python",
   "name": "python",
   "nbconvert_exporter": "python",
   "pygments_lexer": "ipython3",
   "version": "3.7.10"
  }
 },
 "nbformat": 4,
 "nbformat_minor": 1
}
